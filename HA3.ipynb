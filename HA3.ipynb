{
 "cells": [
  {
   "cell_type": "markdown",
   "metadata": {},
   "source": [
    "### Checklist for submission\n",
    "\n",
    "It is extremely important to make sure that:\n",
    "\n",
    "1. Everything runs as expected (no bugs when running cells);\n",
    "2. The output from each cell corresponds to its code (don't change any cell's contents without rerunning it afterwards);\n",
    "3. All outputs are present (don't delete any of the outputs);\n",
    "4. Fill in all the places that say `# YOUR CODE HERE`, or \"**Your answer:** (fill in here)\".\n",
    "5. You should not need to create any new cells in the notebook, but feel free to do it if convenient for you.\n",
    "6. The notebook contains some hidden metadata which is important during our grading process. **Make sure not to corrupt any of this metadata!** The metadata may be corrupted if you perform an unsuccessful git merge / git pull. It may also be pruned completely if using Google Colab, so watch out for this. Searching for \"nbgrader\" when opening the notebook in a text editor should take you to the important metadata entries.\n",
    "7. Fill in your group number and the full names of the members in the cell below;\n",
    "8. Make sure that you are not running an old version of IPython (we provide you with a cell that checks this, make sure you can run it without errors).\n",
    "\n",
    "Failing to meet any of these requirements might lead to either a subtraction of POEs (at best) or a request for resubmission (at worst).\n",
    "\n",
    "We advise you the following steps before submission for ensuring that requirements 1, 2, and 3 are always met: **Restart the kernel** (in the menubar, select Kernel$\\rightarrow$Restart) and then **run all cells** (in the menubar, select Cell$\\rightarrow$Run All). This might require a bit of time, so plan ahead for this (and possibly use Google Cloud's GPU in HA1 and HA2 for this step). Finally press the \"Save and Checkout\" button before handing in, to make sure that all your changes are saved to this .ipynb file."
   ]
  },
  {
   "cell_type": "markdown",
   "metadata": {},
   "source": [
    "---\n",
    "\n",
    "Group number and member names:"
   ]
  },
  {
   "cell_type": "code",
   "execution_count": 17,
   "metadata": {},
   "outputs": [],
   "source": [
    "GROUP = \"40\"\n",
    "NAME1 = \"Earl Fernando Panimayan Fernando\"\n",
    "NAME2 = \"Dimitrios Karypidis\""
   ]
  },
  {
   "cell_type": "markdown",
   "metadata": {},
   "source": [
    "Make sure you can run the following cell without errors."
   ]
  },
  {
   "cell_type": "code",
   "execution_count": 18,
   "metadata": {},
   "outputs": [],
   "source": [
    "import IPython\n",
    "assert IPython.version_info[0] >= 3, \"Your version of IPython is too old, please update it.\""
   ]
  },
  {
   "cell_type": "markdown",
   "metadata": {},
   "source": [
    "---"
   ]
  },
  {
   "cell_type": "markdown",
   "metadata": {
    "deletable": false,
    "editable": false,
    "nbgrader": {
     "checksum": "9f4edef3c4e6df4dbb2a29dba78c09d8",
     "grade": false,
     "grade_id": "cell-2f332c3ca731afc6",
     "locked": true,
     "schema_version": 1,
     "solution": false
    }
   },
   "source": [
    "# Home Assignment 3\n",
    "This home assignment will focus on reinforcement learning and deep reinforcement learning. The first part will cover value-table reinforcement learning techniques, and the second part will include neural networks as function approximators, i.e. deep reinforcement learning. \n",
    "\n",
    "When handing in this assignment, make sure that you're handing in the correct version, and more importantly, *that you do no clear any output from your cells*. We'll use these outputs to aid us when grading your assignment."
   ]
  },
  {
   "cell_type": "markdown",
   "metadata": {
    "deletable": false,
    "editable": false,
    "nbgrader": {
     "checksum": "cc4d88f2e070d5479382bf223b5c5d49",
     "grade": false,
     "grade_id": "cell-8122dcb8d8ca1c9e",
     "locked": true,
     "schema_version": 1,
     "solution": false
    }
   },
   "source": [
    "## Task 1: Gridworld\n",
    "\n",
    "In this task, you will implement Value Iteration to solve for the optimal policy, $\\pi^*$, and the corresponding state value function, $V^*$.\n",
    "\n",
    "The MDP you will work with in this assignment is illustrated in the figure below\n",
    "\n",
    "![title](./grid_world.png) "
   ]
  },
  {
   "cell_type": "markdown",
   "metadata": {
    "deletable": false,
    "editable": false,
    "nbgrader": {
     "checksum": "fbdc1c764382473316a629ae7682d1bb",
     "grade": false,
     "grade_id": "cell-b4e5d5337fbaa0e5",
     "locked": true,
     "schema_version": 1,
     "solution": false
    }
   },
   "source": [
    "The agent starts in one of the squares shown in the above figure, and then proceeds to take actions. The available actions at any time step are: **North, West, South,** and **East**. If an action would make the agent bump into a wall, or one of the black (unreachable) states, it instead does nothing, leaving the agent at the same place it was before.\n",
    "\n",
    "The reward $\\mathcal{R}_s^a$ of being in state $s$ and performing actions $a$ is zero for all states, regardless of the action taken, with the exception of the green and the red squares. For the green square, the reward is always 1, and for the red square, always -1, regardless of the action.\n",
    "\n",
    "When the agent is either in the green or the red square, it will be transported to the terminal state in the next time step, regardless of the action taken. The terminal state is shown as the white square with the \"T\" inside.\n",
    "\n",
    "#### State representation\n",
    "The notations used to define the states are illustrated in the table below\n",
    "\n",
    "| $S_0$ | $S_1$ | $S_2$ | $S_3$ | $S_4$ |    |\n",
    "|-------|-------|-------|-------|-------|----|\n",
    "| $S_5$ | $S_6$ | $S_7$ | $S_8$ | $S_9$ |    |\n",
    "| $S_{10}$ | $S_{11}$ | $S_{12}$ | $S_{13}$ | $S_{14}$ | $S_{15}$|\n",
    "\n",
    "where $S_{10}$ corresponds to the initial state of the environment, $S_4$ and $S_9$ to the green and red states of the environment, and $S_{15}$ to the terminal state."
   ]
  },
  {
   "cell_type": "markdown",
   "metadata": {
    "deletable": false,
    "editable": false,
    "nbgrader": {
     "checksum": "8d0703fff00f4fb67a72b46968fe7253",
     "grade": false,
     "grade_id": "cell-c54a0f7162b1f260",
     "locked": true,
     "schema_version": 1,
     "solution": false
    }
   },
   "source": [
    "\n",
    "### Task 1.a: Solve for $V^*(s)$ and $Q^*(s,a)$\n",
    "For this task all transition probabilities are assumed to be 1 (that is, trying to move in a certain direction will definitely move the agent in the chosen direction), and a discount factor of .9, i.e. $\\gamma=.9$."
   ]
  },
  {
   "cell_type": "markdown",
   "metadata": {
    "deletable": false,
    "editable": false,
    "nbgrader": {
     "checksum": "9894346da453882ad420d049511a5b8b",
     "grade": false,
     "grade_id": "cell-c7fa1d00113f314e",
     "locked": true,
     "schema_version": 1,
     "solution": false
    }
   },
   "source": [
    "* Solve for $V^*(S_{10})$ "
   ]
  },
  {
   "cell_type": "markdown",
   "metadata": {
    "deletable": false,
    "nbgrader": {
     "checksum": "e998cc86ed986eeac11f54b0f6869a67",
     "grade": true,
     "grade_id": "cell-966bc6b1276b31f1",
     "locked": false,
     "points": 0,
     "schema_version": 1,
     "solution": true
    }
   },
   "source": [
    "**Your answer:** ( $ V^*(S_{10}) = 0.53$ )"
   ]
  },
  {
   "cell_type": "markdown",
   "metadata": {
    "deletable": false,
    "editable": false,
    "nbgrader": {
     "checksum": "c2d30fc8031fa1ff3f06019a9cf1ba27",
     "grade": false,
     "grade_id": "cell-4cc15316add9bd67",
     "locked": true,
     "schema_version": 1,
     "solution": false
    }
   },
   "source": [
    "* Solve $Q^*(S_{10},a)$ for all actions"
   ]
  },
  {
   "cell_type": "markdown",
   "metadata": {
    "deletable": false,
    "nbgrader": {
     "checksum": "ad5e1409a936a5c1ec6684a1edae79ee",
     "grade": true,
     "grade_id": "cell-0e5efad7ed72fdcb",
     "locked": false,
     "points": 0,
     "schema_version": 1,
     "solution": true
    }
   },
   "source": [
    "**Your answer:** ($ Q^*(S_{10},a) = 0.53 \\ for \\ a \\in north \\ and \\ east, Q^*(S_{10},a) = 0.53 * 0.9 = 0.477 \\ for \\ a \\in south \\ and \\ west  $)"
   ]
  },
  {
   "cell_type": "markdown",
   "metadata": {
    "deletable": false,
    "editable": false,
    "nbgrader": {
     "checksum": "fcab701a30ff0fd17edaa87e562124ba",
     "grade": false,
     "grade_id": "cell-e426e3815f78930a",
     "locked": true,
     "schema_version": 1,
     "solution": false
    }
   },
   "source": [
    "\n",
    "\n",
    "### Task 1.b Write a mathematical expression relating $V^\\pi(s)$ to $Q^\\pi(s,a)$ and $\\pi(a|s)$\n"
   ]
  },
  {
   "cell_type": "markdown",
   "metadata": {
    "deletable": false,
    "nbgrader": {
     "checksum": "61bf64e2c38d41b0f0d024faba554e8f",
     "grade": true,
     "grade_id": "cell-343c3ea4883085e1",
     "locked": false,
     "points": 0,
     "schema_version": 1,
     "solution": true
    }
   },
   "source": [
    "**Your answer:** ($V^\\pi(s)$ = $\\sum_{a=A}$$\\pi(a|s)$$Q^\\pi(s,a)$)"
   ]
  },
  {
   "cell_type": "markdown",
   "metadata": {
    "deletable": false,
    "editable": false,
    "nbgrader": {
     "checksum": "993f36fffd9ebfd3c89a3b63dd42685d",
     "grade": false,
     "grade_id": "cell-ab80df325256cf89",
     "locked": true,
     "schema_version": 1,
     "solution": false
    }
   },
   "source": [
    "\n",
    "###  Task 1.c: Value Iteration\n",
    "For this task, the transitions are no longer deterministic. Instead, there is a 0.2 probability that the agent will try to travel in an orthogonal direction of the chosen action (0.1 probability for each of the two orthogonal directions). Note that the Markov decision process is still known and does not have to be learned from experience.\n",
    "\n",
    "Your task is to implement value iteration and solve for the\n",
    "* optimal greedy policy $\\pi^*(s)$ \n",
    "* $V^*(s)$"
   ]
  },
  {
   "cell_type": "markdown",
   "metadata": {
    "deletable": false,
    "editable": false,
    "nbgrader": {
     "checksum": "659925b7584671453aaee51f14ec4083",
     "grade": false,
     "grade_id": "cell-74497ad9b13e8362",
     "locked": true,
     "schema_version": 1,
     "solution": false
    }
   },
   "source": [
    "#### The value iteration algorithm\n",
    "Value iteration is an iterative algorithm used to compute the optimal value function $V^*(s)$. Each iteration starts with a guess of what the value function is and then uses the Bellman equations to improve this guess iteratively. We can describe one iteration of the algorithm as\n",
    "\n",
    "$\n",
    "\\textbf{For} ~ s \\in {\\cal S}:\\qquad  \\\\\n",
    "\\quad V_{k+1}(s) = \\underset{a \\in {\\cal A}}{\\text{max}}~ \\left( \\mathcal{R}_s^a + \\gamma \\underset{{s'\\in \\mathcal{S}}}{\\sum} \\mathcal{P}_{ss'}^a \\cdot V_k(s') \\right)\n",
    "$\n",
    "\n",
    "where $\\mathcal{P}_{ss'}^a={\\mathrm Pr}[S'=s'\\big|S=s,A=a]$ is the probability to transition state $s$ to $s'$ given action $a$.\n",
    "\n",
    "\n",
    "#### The MDP Python class\n",
    "The Markov Decision Process you will work with is defined in `gridworld_mdp.py`. In the implementation, the actions are represented by integers as, North = 0, West = 1, South = 2, and East = 3.\n",
    "To interact with the MDP, you need to instantiate an object as: \n",
    "\n",
    "\n",
    "```python\n",
    "mdp = GridWorldMDP()\n",
    "```\n",
    "\n",
    "At your disposal there are a number of instance-functions implemented for you, and presented below:"
   ]
  },
  {
   "cell_type": "code",
   "execution_count": 19,
   "metadata": {
    "deletable": false,
    "editable": false,
    "nbgrader": {
     "checksum": "636b8c5ea0bb7d3b4798564dfc7d580d",
     "grade": false,
     "grade_id": "cell-21e5d7b3d3083cd6",
     "locked": true,
     "schema_version": 1,
     "solution": false
    }
   },
   "outputs": [
    {
     "name": "stdout",
     "output_type": "stream",
     "text": [
      "Help on function get_states in module gridworld_mdp:\n",
      "\n",
      "get_states(self)\n",
      "    Returns complete set of states for the MDP\n",
      "    :return: numpy array of shape [num states,]\n",
      "\n"
     ]
    }
   ],
   "source": [
    "from gridworld_mdp import *\n",
    "import numpy as np\n",
    "\n",
    "help(GridWorldMDP.get_states)"
   ]
  },
  {
   "cell_type": "code",
   "execution_count": 20,
   "metadata": {
    "deletable": false,
    "editable": false,
    "nbgrader": {
     "checksum": "620f4674b0caadf475b4889bd8747b62",
     "grade": false,
     "grade_id": "cell-9706322eb34e16db",
     "locked": true,
     "schema_version": 1,
     "solution": false
    }
   },
   "outputs": [
    {
     "name": "stdout",
     "output_type": "stream",
     "text": [
      "Help on function __init__ in module gridworld_mdp:\n",
      "\n",
      "__init__(self, trans_prob=0.8)\n",
      "    Initializes an instance of the GridWorldMDP class\n",
      "    :param trans_prob: transition probabilities (e.g. =1 for deterministic MDP)\n",
      "\n"
     ]
    }
   ],
   "source": [
    "# The constructor\n",
    "help(GridWorldMDP.__init__)"
   ]
  },
  {
   "cell_type": "code",
   "execution_count": 21,
   "metadata": {
    "deletable": false,
    "editable": false,
    "nbgrader": {
     "checksum": "f9b14ba756ee79811ccba63e1e51f14a",
     "grade": false,
     "grade_id": "cell-38d3ab6fb24c1af8",
     "locked": true,
     "schema_version": 1,
     "solution": false
    }
   },
   "outputs": [
    {
     "name": "stdout",
     "output_type": "stream",
     "text": [
      "Help on function get_actions in module gridworld_mdp:\n",
      "\n",
      "get_actions(self)\n",
      "    Returns complete set of actions for the MDP\n",
      "    :return: numpy array of shape [num actions,]\n",
      "\n"
     ]
    }
   ],
   "source": [
    "help(GridWorldMDP.get_actions)"
   ]
  },
  {
   "cell_type": "code",
   "execution_count": 22,
   "metadata": {
    "deletable": false,
    "editable": false,
    "nbgrader": {
     "checksum": "e0b98cbe90baa640578ed1991b4e3501",
     "grade": false,
     "grade_id": "cell-ecb00397472a5faa",
     "locked": true,
     "schema_version": 1,
     "solution": false
    }
   },
   "outputs": [
    {
     "name": "stdout",
     "output_type": "stream",
     "text": [
      "Help on function state_transition_func in module gridworld_mdp:\n",
      "\n",
      "state_transition_func(self, s, a)\n",
      "    Returns the transition probabilities to all states given current state and action\n",
      "    :param state: current state as integer\n",
      "    :param action: selected action as integer\n",
      "    :return: state-transition probabilities, i.e.\n",
      "     [P[S_0| S=s, A_t=a], P[S_1| S=s, A=a], ..., P[S_14| S=s, A=a]]\n",
      "\n"
     ]
    }
   ],
   "source": [
    "help(GridWorldMDP.state_transition_func)"
   ]
  },
  {
   "cell_type": "code",
   "execution_count": 23,
   "metadata": {
    "deletable": false,
    "editable": false,
    "nbgrader": {
     "checksum": "40120f95b5767060a8ca55455cf5d485",
     "grade": false,
     "grade_id": "cell-aa8e1498649053a5",
     "locked": true,
     "schema_version": 1,
     "solution": false
    }
   },
   "outputs": [
    {
     "name": "stdout",
     "output_type": "stream",
     "text": [
      "Help on function reward_function in module gridworld_mdp:\n",
      "\n",
      "reward_function(self, s, a)\n",
      "    Returns the reward r(s,a)\n",
      "    :param state: current state as integer\n",
      "    :param action: selected action as integer\n",
      "    :return: r(s,a)\n",
      "\n"
     ]
    }
   ],
   "source": [
    "help(GridWorldMDP.reward_function)"
   ]
  },
  {
   "cell_type": "markdown",
   "metadata": {
    "deletable": false,
    "editable": false,
    "nbgrader": {
     "checksum": "8defb43e783bcb9464571753a5c6e452",
     "grade": false,
     "grade_id": "cell-c1408cc9707dd7f8",
     "locked": true,
     "schema_version": 1,
     "solution": false
    }
   },
   "source": [
    "We also provide two helper functions for visualizing the value function and the policies you obtain:"
   ]
  },
  {
   "cell_type": "code",
   "execution_count": 24,
   "metadata": {
    "deletable": false,
    "editable": false,
    "nbgrader": {
     "checksum": "b39ad0b689edcb447e156b888fbc0515",
     "grade": false,
     "grade_id": "cell-b754590784e24eb1",
     "locked": true,
     "schema_version": 1,
     "solution": false
    }
   },
   "outputs": [],
   "source": [
    "# Function for printing a policy pi\n",
    "def print_policy(pi):\n",
    "    print('Policy for non-terminal states: ')\n",
    "    indencies = np.arange(1, 16)\n",
    "    txt = '| '\n",
    "    hor_delimiter = '---------------------'\n",
    "    print(hor_delimiter)\n",
    "    for a, i in zip(pi, indencies):\n",
    "        txt += mdp.act_to_char_dict[a] + ' | '\n",
    "        if i % 5 == 0:\n",
    "            print(txt + '\\n' + hor_delimiter)\n",
    "            txt = '| '\n",
    "    print('                            ---')\n",
    "    print('Policy for terminal state: |', mdp.act_to_char_dict[pi[15]],'|')\n",
    "    print('                            ---')            \n",
    "\n",
    "# Function for printing a table with of the value function\n",
    "def print_value_table(values, num_iterations=None):            \n",
    "    if num_iterations:\n",
    "        print('Values for non-terminal states after: ', num_iterations, 'iterations \\n', np.reshape(values, [3, 5]), '\\n')\n",
    "        print('Value for terminal state:', terminal_value, '\\n')\n",
    "    else: \n",
    "        terminal_value = values[-1]\n",
    "        print('Values for non-terminal states: \\n', np.reshape(values[:-1], [3, 5]))\n",
    "        print('Value for terminal state:', terminal_value, '\\n')"
   ]
  },
  {
   "cell_type": "markdown",
   "metadata": {
    "deletable": false,
    "editable": false,
    "nbgrader": {
     "checksum": "c04d9592932bc9c1e92df4949bcea301",
     "grade": false,
     "grade_id": "cell-87e02763b23fe1f8",
     "locked": true,
     "schema_version": 1,
     "solution": false
    }
   },
   "source": [
    "Now it's time for you to implement your own version of value iteration to solve for the greedy policy and $V^*(s)$."
   ]
  },
  {
   "cell_type": "code",
   "execution_count": 46,
   "metadata": {
    "deletable": false,
    "nbgrader": {
     "checksum": "4ec5804f5a67633ffcbb04d6e0f2addf",
     "grade": true,
     "grade_id": "cell-d473b99fe1825067",
     "locked": false,
     "points": 0,
     "schema_version": 1,
     "solution": true
    }
   },
   "outputs": [],
   "source": [
    "def value_iteration(gamma, mdp):\n",
    "    \"\"\"\n",
    "    Returns:\n",
    "        V - state value table, numpy array of shape (16,)\n",
    "        pi - greedy policy table, numpy array of shape (16,)\n",
    "    \"\"\"\n",
    "    V = np.zeros([16]) # state value table\n",
    "    Q = np.zeros([16, 4]) # state action value table\n",
    "    pi = np.zeros([16]) # greedy policy table\n",
    "    iteration=0\n",
    "    run= True\n",
    "    while run:\n",
    "        for i in mdp.get_states():\n",
    "            for j in mdp.get_actions():\n",
    "                A=np.multiply(mdp.state_transition_func(i,j),V)\n",
    "\n",
    "        \n",
    "                Q[i][j]= mdp.reward_function(i,j)+ gamma*np.sum( A)\n",
    "\n",
    "        V_new = np.amax(Q,axis=1)\n",
    "\n",
    "        if np.all(V==V_new):\n",
    "            run= False\n",
    "        else:\n",
    "            V=V_new\n",
    "        pi = np.argmax(Q,axis=1)\n",
    "    \n",
    "\n",
    "    # YOUR CODE HERE\n",
    "    \n",
    "    return V, pi\n"
   ]
  },
  {
   "cell_type": "markdown",
   "metadata": {
    "deletable": false,
    "editable": false,
    "nbgrader": {
     "checksum": "41ca129edbe5353b31ec35933bf28cdb",
     "grade": false,
     "grade_id": "cell-99c149095318adac",
     "locked": true,
     "schema_version": 1,
     "solution": false
    }
   },
   "source": [
    "Run your implementation for the deterministic version of our MDP. As a sanity check, compare your analytical solutions with the output from your implementation."
   ]
  },
  {
   "cell_type": "code",
   "execution_count": 47,
   "metadata": {
    "deletable": false,
    "editable": false,
    "nbgrader": {
     "checksum": "8a8722a6c33a96991f1091e2418def51",
     "grade": false,
     "grade_id": "cell-bd495acfe33d405f",
     "locked": true,
     "schema_version": 1,
     "solution": false
    }
   },
   "outputs": [
    {
     "name": "stdout",
     "output_type": "stream",
     "text": [
      "Values for non-terminal states: \n",
      " [[ 0.6561    0.729     0.81      0.9       1.      ]\n",
      " [ 0.59049   0.        0.        0.81     -1.      ]\n",
      " [ 0.531441  0.59049   0.6561    0.729     0.6561  ]]\n",
      "Value for terminal state: 0.0 \n",
      "\n",
      "Policy for non-terminal states: \n",
      "---------------------\n",
      "| E | E | E | E | N | \n",
      "---------------------\n",
      "| N | N | N | N | N | \n",
      "---------------------\n",
      "| N | E | E | N | W | \n",
      "---------------------\n",
      "                            ---\n",
      "Policy for terminal state: | N |\n",
      "                            ---\n"
     ]
    }
   ],
   "source": [
    "mdp = GridWorldMDP(trans_prob=1.)\n",
    "v, pi = value_iteration(.9, mdp)\n",
    "print_value_table(v)\n",
    "print_policy(pi)"
   ]
  },
  {
   "cell_type": "markdown",
   "metadata": {
    "deletable": false,
    "editable": false,
    "nbgrader": {
     "checksum": "172eb8e58e4dbdcca83bb2bb8589032d",
     "grade": false,
     "grade_id": "cell-5a24214a0645d4b4",
     "locked": true,
     "schema_version": 1,
     "solution": false
    }
   },
   "source": [
    "Once your implementation passed the sanity check, run it for the stochastic case, where the probability of an action succeding is 0.8, and 0.2 of moving the agent in an orthogonal direction to the intended. Use $\\gamma = .99$."
   ]
  },
  {
   "cell_type": "code",
   "execution_count": 48,
   "metadata": {
    "deletable": false,
    "editable": false,
    "nbgrader": {
     "checksum": "60e210ba654df60fcc54a7d6eda59aae",
     "grade": false,
     "grade_id": "cell-c6d0282ee295bb85",
     "locked": true,
     "schema_version": 1,
     "solution": false
    }
   },
   "outputs": [
    {
     "name": "stdout",
     "output_type": "stream",
     "text": [
      "Values for non-terminal states: \n",
      " [[ 0.93861973  0.95193393  0.9639533   0.97612443  1.        ]\n",
      " [ 0.92691625  0.          0.          0.88371826 -1.        ]\n",
      " [ 0.91395196  0.90255605  0.89130223  0.88057656  0.79978972]]\n",
      "Value for terminal state: 0.0 \n",
      "\n",
      "Policy for non-terminal states: \n",
      "---------------------\n",
      "| E | E | E | E | N | \n",
      "---------------------\n",
      "| N | N | N | W | N | \n",
      "---------------------\n",
      "| N | W | W | W | S | \n",
      "---------------------\n",
      "                            ---\n",
      "Policy for terminal state: | N |\n",
      "                            ---\n"
     ]
    }
   ],
   "source": [
    "# Run for stochastic MDP, gamma = .99\n",
    "mdp = GridWorldMDP()\n",
    "v, pi = value_iteration(.99, mdp)\n",
    "print_value_table(v)\n",
    "print_policy(pi)"
   ]
  },
  {
   "cell_type": "markdown",
   "metadata": {
    "deletable": false,
    "editable": false,
    "nbgrader": {
     "checksum": "6d055e91280e2309b99724e4b6d6b1c6",
     "grade": false,
     "grade_id": "cell-b80f5f5b9d1398a6",
     "locked": true,
     "schema_version": 1,
     "solution": false
    }
   },
   "source": [
    "Does the policy that the algorithm found looks reasonable? For instance, what's the policy for state $S_8$? Is that a good idea? Why?"
   ]
  },
  {
   "cell_type": "markdown",
   "metadata": {
    "deletable": false,
    "nbgrader": {
     "checksum": "c078f48627ee20611cff693693deb293",
     "grade": true,
     "grade_id": "cell-daff5655fe78f131",
     "locked": false,
     "points": 0,
     "schema_version": 1,
     "solution": true
    }
   },
   "source": [
    "**Your answer:** ( At first glance, the answer does not seem reasonable, since going west from $S_8$ hits an obstacle. But since the search is stochastic, we don't always follow the greedy policy, which favors exploration. Further more, having a discount factor $\\gamma = 0.99$ makes the agent unfavour the paths that get closer to the terminal state $S_9 = -1$, even though they might also get the agent closer to the terminal state $S_5 = 1$. )"
   ]
  },
  {
   "cell_type": "markdown",
   "metadata": {
    "deletable": false,
    "editable": false,
    "nbgrader": {
     "checksum": "5c94489bd5a5a7608e4fa04705176796",
     "grade": false,
     "grade_id": "cell-d4840da19cbbb63a",
     "locked": true,
     "schema_version": 1,
     "solution": false
    }
   },
   "source": [
    "Test your implementation using this function."
   ]
  },
  {
   "cell_type": "code",
   "execution_count": 28,
   "metadata": {
    "deletable": false,
    "editable": false,
    "nbgrader": {
     "checksum": "e5071817f08d1145df1c5095dab2e7dc",
     "grade": false,
     "grade_id": "cell-f89a5e7709d41efc",
     "locked": true,
     "schema_version": 1,
     "solution": false
    }
   },
   "outputs": [
    {
     "name": "stdout",
     "output_type": "stream",
     "text": [
      "Passed: state-value test, for gamma=.99\n",
      "Passed: policy test, for gamma=.99\n"
     ]
    }
   ],
   "source": [
    "test_value_iteration(v, pi)"
   ]
  },
  {
   "cell_type": "markdown",
   "metadata": {
    "deletable": false,
    "editable": false,
    "nbgrader": {
     "checksum": "7a2a2376284478e5ff87e8fc45681df1",
     "grade": false,
     "grade_id": "cell-32b52b966ea12de5",
     "locked": true,
     "schema_version": 1,
     "solution": false
    }
   },
   "source": [
    "Run value iteration for the same scenario as above, but now with $\\gamma=.9$"
   ]
  },
  {
   "cell_type": "code",
   "execution_count": 29,
   "metadata": {
    "deletable": false,
    "editable": false,
    "nbgrader": {
     "checksum": "45da583d4680e326a85cde59f0373b3e",
     "grade": false,
     "grade_id": "cell-3f797c0f704c2394",
     "locked": true,
     "schema_version": 1,
     "solution": false
    }
   },
   "outputs": [
    {
     "name": "stdout",
     "output_type": "stream",
     "text": [
      "Values for non-terminal states: \n",
      " [[ 0.56631445  0.65360208  0.74438015  0.84776628  1.        ]\n",
      " [ 0.49725171  0.          0.          0.57185903 -1.        ]\n",
      " [ 0.43084446  0.37830245  0.41624465  0.47405641  0.2761765 ]]\n",
      "Value for terminal state: 0.0 \n",
      "\n",
      "Policy for non-terminal states: \n",
      "---------------------\n",
      "| E | E | E | E | N | \n",
      "---------------------\n",
      "| N | N | N | N | N | \n",
      "---------------------\n",
      "| N | W | E | N | W | \n",
      "---------------------\n",
      "                            ---\n",
      "Policy for terminal state: | N |\n",
      "                            ---\n"
     ]
    }
   ],
   "source": [
    "# Run for stochastic MDP, gamma = .9\n",
    "mdp = GridWorldMDP()\n",
    "v, pi = value_iteration(.9, mdp)\n",
    "print_value_table(v)\n",
    "print_policy(pi)"
   ]
  },
  {
   "cell_type": "markdown",
   "metadata": {
    "deletable": false,
    "editable": false,
    "nbgrader": {
     "checksum": "90e75aaf90f849962cc2170695e557c0",
     "grade": false,
     "grade_id": "cell-9192d61af754d47b",
     "locked": true,
     "schema_version": 1,
     "solution": false
    }
   },
   "source": [
    "Do you notice any difference between the greedy policy for the two different discount factors. If so, what's the difference, and why do you think this happened?"
   ]
  },
  {
   "cell_type": "markdown",
   "metadata": {
    "deletable": false,
    "nbgrader": {
     "checksum": "5bd2832c73ff6f59dd2dfe977ff3fd50",
     "grade": true,
     "grade_id": "cell-1a675e7574dce1d5",
     "locked": false,
     "points": 0,
     "schema_version": 1,
     "solution": true
    }
   },
   "source": [
    "**Your answer:** (fill in here)"
   ]
  },
  {
   "cell_type": "markdown",
   "metadata": {
    "deletable": false,
    "editable": false,
    "nbgrader": {
     "checksum": "79f657022c51018529b8d26b0ddd63c8",
     "grade": false,
     "grade_id": "cell-01feb7e04644407c",
     "locked": true,
     "schema_version": 1,
     "solution": false
    }
   },
   "source": [
    "## Task 2: Q-learning\n",
    "\n",
    "In the previous task, you solved for $V^*(s)$ and the greedy policy $\\pi^*(s)$, with the entire model of the MDP being available to you. This is however not very practical since for most problems we are trying to solve, the model is not known, and estimating the model is quite often a very tedious process which often also requires a lot of simplifications. \n",
    "\n",
    "#### Q-learning algorithm\n",
    "$\n",
    "\\text{Initialize}~Q(s,a), ~ \\forall~ s \\in {\\cal S},~ a~\\in {\\cal A} \\\\\n",
    "\\textbf{Repeat}~\\text{(for each episode):}\\\\\n",
    "\\quad \\text{Initialize}~s\\\\\n",
    "\\qquad \\textbf{Repeat}~\\text{(for each step in episode):}\\\\\n",
    "\\qquad\\quad \\text{Chose $a$ from $s$ using poliy derived from $Q$ (e.g., $\\epsilon$-greedy)}\\\\\n",
    "\\qquad\\quad \\text{Take action a, observe r, s'}\\\\\n",
    "\\qquad\\quad Q(s,a) \\leftarrow Q(s,a) + \\alpha \\left(r + \\gamma~\\underset{a}{\\text{max}}~Q(s',a) - Q(s,a) \\right) \\\\\n",
    "\\qquad\\quad s \\leftarrow s' \\\\\n",
    "\\qquad \\text{Until s is terminal}\n",
    "$"
   ]
  },
  {
   "cell_type": "markdown",
   "metadata": {
    "deletable": false,
    "editable": false,
    "nbgrader": {
     "checksum": "f704f54a37111f555333212087572ac6",
     "grade": false,
     "grade_id": "cell-c974d24244fe78ca",
     "locked": true,
     "schema_version": 1,
     "solution": false
    }
   },
   "source": [
    "### Task 2.1 Model-free control\n",
    "Why is it that Q-learning does not require a model of the MDP to solve for it?  "
   ]
  },
  {
   "cell_type": "markdown",
   "metadata": {
    "deletable": false,
    "nbgrader": {
     "checksum": "b369cc3d0a009ff83d971bc83c58fe69",
     "grade": true,
     "grade_id": "cell-448842959cfe9780",
     "locked": false,
     "points": 0,
     "schema_version": 1,
     "solution": true
    }
   },
   "source": [
    "**Your answer:** (fill in here)"
   ]
  },
  {
   "cell_type": "markdown",
   "metadata": {
    "deletable": false,
    "editable": false,
    "nbgrader": {
     "checksum": "9570fd8489dd5eec632778ab56e56c8b",
     "grade": false,
     "grade_id": "cell-bbe7f99d1cc4e6af",
     "locked": true,
     "schema_version": 1,
     "solution": false
    }
   },
   "source": [
    "### Task 2.2  Implement an $\\epsilon$-greedy policy\n",
    "The goal of the Q-learning algorithm is to find the optimal policy $\\pi^*$, by estimating the state action value function under the optimal policy, i.e. $Q^*(s, a)$. From $Q^*(s,a)$, the agent can follow $\\pi^*$, by choosing the action with that yields the largest expected value for each state, i.e. $\\underset{a}{\\text{argmax}}~Q^*(s, a)$.\n",
    "\n",
    "However, when training a Q-learning model, the agent typically follows another policy to explore the environment. In reinforcement learning this is known as off-policy learning. \n",
    "\n",
    "Your task is to implement a widely popular exploration policy, known as  the $\\epsilon$-greedy policy, in the cell below.\n",
    "\n",
    "An $\\epsilon$-Greedy policy should:\n",
    "* with probability $\\epsilon$ take an uniformly-random action.\n",
    "* otherwise choose the best action according to the estimated state action values."
   ]
  },
  {
   "cell_type": "code",
   "execution_count": 30,
   "metadata": {
    "deletable": false,
    "nbgrader": {
     "checksum": "ec694eb01517a447e2d27c05d3e69b9a",
     "grade": true,
     "grade_id": "cell-48c826a87791fb56",
     "locked": false,
     "points": 0,
     "schema_version": 1,
     "solution": true
    }
   },
   "outputs": [],
   "source": [
    "import random\n",
    "def eps_greedy_policy(q_values, eps):\n",
    "    '''\n",
    "    Creates an epsilon-greedy policy\n",
    "    :param q_values: set of Q-values of shape (num actions,)\n",
    "    :param eps: probability of taking a uniform random action \n",
    "    :return: policy of shape (num actions,)\n",
    "    '''\n",
    "    # YOUR CODE HERE\n",
    "#ALTERNATICE IMPLEMENTATION USING THE EQUATIONS FROM THE SLIDES (NO RANDOM)\n",
    "#    policy = np.empty(len(q_values))\n",
    "#    q_max = np.max(q_values) \n",
    "#    for i in range(len(q_values)):\n",
    "#        policy[i] = eps / len(q_values) + (1 - eps) if q_values[i] == q_max else eps/len(q_values)\n",
    "    \n",
    "    r = random.uniform(0,1)\n",
    "    policy = np.zeros(len(q_values))\n",
    "    if r <= eps:\n",
    "        policy = np.ones(len(q_values))*1/len(q_values)\n",
    "        \n",
    "    else :\n",
    "        selected = np.argmax(np.array(q_values))\n",
    "        policy[selected] = 1\n",
    "        \n",
    "    return policy\n",
    "    "
   ]
  },
  {
   "cell_type": "markdown",
   "metadata": {
    "deletable": false,
    "editable": false,
    "nbgrader": {
     "checksum": "583492c65cb090c181c66b42c2a51eff",
     "grade": false,
     "grade_id": "cell-6d33489b428b1179",
     "locked": true,
     "schema_version": 1,
     "solution": false
    }
   },
   "source": [
    "Run the cell below to test your implementation"
   ]
  },
  {
   "cell_type": "code",
   "execution_count": 31,
   "metadata": {
    "deletable": false,
    "editable": false,
    "nbgrader": {
     "checksum": "8803a2f8fb24390fc517a97579e04242",
     "grade": false,
     "grade_id": "cell-80bd577e278ec0b0",
     "locked": true,
     "schema_version": 1,
     "solution": false
    }
   },
   "outputs": [
    {
     "name": "stdout",
     "output_type": "stream",
     "text": [
      "Test passed, good job!\n"
     ]
    }
   ],
   "source": [
    "mdp = GridWorldMDP()\n",
    "\n",
    "# Test shape of output\n",
    "actions = mdp.get_actions()\n",
    "for eps in (0, 1):\n",
    "    foo = np.zeros([len(actions)])\n",
    "    foo[0] = 1.\n",
    "    eps_greedy = eps_greedy_policy(foo, eps)\n",
    "    assert foo.shape == eps_greedy.shape, \"wrong shape of output\"\n",
    "actions = [i for i in range(10)]\n",
    "for eps in (0, 1):\n",
    "    foo = np.zeros([len(actions)])\n",
    "    foo[0] = 1.\n",
    "    eps_greedy = eps_greedy_policy(foo, eps)\n",
    "    assert foo.shape == eps_greedy.shape, \"wrong shape of output\"\n",
    "\n",
    "# Test for greedy actions\n",
    "for a in actions:\n",
    "    foo = np.zeros([len(actions)])\n",
    "    foo[a] = 1.\n",
    "    eps_greedy = eps_greedy_policy(foo, 0)\n",
    "    assert np.array_equal(foo, eps_greedy), \"policy is not greedy\"\n",
    "\n",
    "# Test for uniform distribution, when eps=1\n",
    "eps_greedy = eps_greedy_policy(foo, 1)\n",
    "assert all(p==eps_greedy[0] for p in eps_greedy) and np.sum(eps_greedy)==1, \\\n",
    "\"policy does not return a uniform distribution for eps=1\"\n",
    "\n",
    "print('Test passed, good job!')"
   ]
  },
  {
   "cell_type": "markdown",
   "metadata": {
    "deletable": false,
    "editable": false,
    "nbgrader": {
     "checksum": "21d88565b3663fe971606656dd045804",
     "grade": false,
     "grade_id": "cell-1dccaeebe5a41325",
     "locked": true,
     "schema_version": 1,
     "solution": false
    }
   },
   "source": [
    "### Task 2.2: Implement the Q-learning algorithm\n",
    "\n",
    "Now it's time to actually implement the Q-learning algorithm. Unlike the Value iteration where there is no direct interactions with the environment, the Q-learning algorithm builds up its estimations by interacting and exploring the environment. \n",
    "\n",
    "To enable the agent to explore the environment a set of helper functions are provided:"
   ]
  },
  {
   "cell_type": "code",
   "execution_count": 32,
   "metadata": {
    "deletable": false,
    "editable": false,
    "nbgrader": {
     "checksum": "02bb92b833a3dc4e535cda13a4a1fae4",
     "grade": false,
     "grade_id": "cell-881edd2be439489e",
     "locked": true,
     "schema_version": 1,
     "solution": false
    }
   },
   "outputs": [
    {
     "name": "stdout",
     "output_type": "stream",
     "text": [
      "Help on function reset in module gridworld_mdp:\n",
      "\n",
      "reset(self)\n",
      "    Resets the environment and the agent is positioned in the initial state in the bottom left corner.\n",
      "    :return: state, reward, terminal\n",
      "\n"
     ]
    }
   ],
   "source": [
    "help(GridWorldMDP.reset)"
   ]
  },
  {
   "cell_type": "code",
   "execution_count": 33,
   "metadata": {
    "deletable": false,
    "editable": false,
    "nbgrader": {
     "checksum": "589834a8662125b7792560c134990d91",
     "grade": false,
     "grade_id": "cell-061e7670ebd7b35c",
     "locked": true,
     "schema_version": 1,
     "solution": false
    },
    "scrolled": true
   },
   "outputs": [
    {
     "name": "stdout",
     "output_type": "stream",
     "text": [
      "Help on function step in module gridworld_mdp:\n",
      "\n",
      "step(self, action)\n",
      "    Takes one step in the environment using the selected action\n",
      "    :param action: action to execute, integer\n",
      "    :return: state, reward, terminal\n",
      "\n"
     ]
    }
   ],
   "source": [
    "help(GridWorldMDP.step)"
   ]
  },
  {
   "cell_type": "markdown",
   "metadata": {
    "deletable": false,
    "editable": false,
    "nbgrader": {
     "checksum": "8b92ae99e0b252016ed7040a0f706cec",
     "grade": false,
     "grade_id": "cell-15fa6bbf763cdc6f",
     "locked": true,
     "schema_version": 1,
     "solution": false
    }
   },
   "source": [
    "Implement your version of Q-learning in the cell below. \n",
    "\n",
    "**Hint:** It might be useful to study the pseudocode provided above. "
   ]
  },
  {
   "cell_type": "code",
   "execution_count": 34,
   "metadata": {
    "deletable": false,
    "nbgrader": {
     "checksum": "465ba05d25e3bc7b0121f8a025b38831",
     "grade": true,
     "grade_id": "cell-3912d729d9527acd",
     "locked": false,
     "points": 0,
     "schema_version": 1,
     "solution": true
    }
   },
   "outputs": [],
   "source": [
    "q_mdp = GridWorldMDP()\n",
    "def q_learning(eps, gamma):\n",
    "    Q = np.zeros([16, 4]) # state action value table\n",
    "    pi = np.zeros([16]) # greedy policy table\n",
    "    alpha = .01\n",
    "\n",
    "    # YOUR CODE HERE\n",
    "    max_iter = 8000; \n",
    "    for i in range(max_iter):\n",
    "        convergence = 0.001\n",
    "        state , reward , terminal = q_mdp.reset()\n",
    "        terminal = False\n",
    "        temp_diff = 0\n",
    "        while terminal == False:\n",
    "            eps_greedy_actions = eps_greedy_policy(Q[state],eps)\n",
    "            a = np.argmax(eps_greedy_actions) if random.uniform(0,1) > 1 else np.random.randint(0,len(eps_greedy_actions))\n",
    "            state_prime, reward, terminal = q_mdp.step(a)\n",
    "            Q_new =  Q[state, a] + alpha * (reward + gamma * np.max(Q[state_prime]) - Q[state,a])\n",
    "            temp_diff += np.abs(Q[state, a] - Q_new)\n",
    "            Q[state, a] = Q_new\n",
    "            pi[state] = np.argmax(Q[state])\n",
    "            state = state_prime \n",
    "        if temp_diff < convergence: break\n",
    "        \n",
    "    return pi, Q"
   ]
  },
  {
   "cell_type": "markdown",
   "metadata": {
    "deletable": false,
    "editable": false,
    "nbgrader": {
     "checksum": "2db55b6a6838a75f15ef87f979ead425",
     "grade": false,
     "grade_id": "cell-b48032d234ecb11d",
     "locked": true,
     "schema_version": 1,
     "solution": false
    }
   },
   "source": [
    "Run Q-learning with  $\\epsilon = 1$ for the MDP with $\\gamma=0.99$"
   ]
  },
  {
   "cell_type": "code",
   "execution_count": 35,
   "metadata": {
    "deletable": false,
    "editable": false,
    "nbgrader": {
     "checksum": "bebc79f9656b76b9e936221eb633cc4b",
     "grade": false,
     "grade_id": "cell-0464324eb2e2bf9c",
     "locked": true,
     "schema_version": 1,
     "solution": false
    }
   },
   "outputs": [
    {
     "name": "stdout",
     "output_type": "stream",
     "text": [
      "Policy for non-terminal states: \n",
      "---------------------\n",
      "| E | E | E | E | E | \n",
      "---------------------\n",
      "| N | N | N | W | N | \n",
      "---------------------\n",
      "| N | W | W | W | S | \n",
      "---------------------\n",
      "                            ---\n",
      "Policy for terminal state: | N |\n",
      "                            ---\n"
     ]
    }
   ],
   "source": [
    "pi, Q = q_learning(1, .99)\n",
    "print_policy(pi)"
   ]
  },
  {
   "cell_type": "markdown",
   "metadata": {
    "deletable": false,
    "editable": false,
    "nbgrader": {
     "checksum": "9bc5026e570acf5162847f04d4b2daf3",
     "grade": false,
     "grade_id": "cell-a424df8abe557f2e",
     "locked": true,
     "schema_version": 1,
     "solution": false
    }
   },
   "source": [
    "Test your implementation by running the cell below"
   ]
  },
  {
   "cell_type": "code",
   "execution_count": 36,
   "metadata": {
    "deletable": false,
    "editable": false,
    "nbgrader": {
     "checksum": "fe0420c08764bdf6ddec81e380ccf729",
     "grade": false,
     "grade_id": "cell-e2832d3538099d67",
     "locked": true,
     "schema_version": 1,
     "solution": false
    }
   },
   "outputs": [
    {
     "name": "stdout",
     "output_type": "stream",
     "text": [
      "Passed: policy test, for gamma=.99\n"
     ]
    }
   ],
   "source": [
    "test_q_learning(Q)"
   ]
  },
  {
   "cell_type": "markdown",
   "metadata": {
    "deletable": false,
    "editable": false,
    "nbgrader": {
     "checksum": "49f7e5d4884836a1c3c968b767d51f40",
     "grade": false,
     "grade_id": "cell-d3623c3f5c170bd4",
     "locked": true,
     "schema_version": 1,
     "solution": false
    }
   },
   "source": [
    "Run Q-learning with $\\epsilon=0$"
   ]
  },
  {
   "cell_type": "code",
   "execution_count": 80,
   "metadata": {
    "deletable": false,
    "editable": false,
    "nbgrader": {
     "checksum": "8913eaf75e0f0d1c388d682d5767e0e6",
     "grade": false,
     "grade_id": "cell-1c095409c30320d7",
     "locked": true,
     "schema_version": 1,
     "solution": false
    }
   },
   "outputs": [
    {
     "name": "stdout",
     "output_type": "stream",
     "text": [
      "Policy for non-terminal states: \n",
      "---------------------\n",
      "| E | E | E | E | S | \n",
      "---------------------\n",
      "| N | N | N | W | W | \n",
      "---------------------\n",
      "| N | W | W | W | S | \n",
      "---------------------\n",
      "                            ---\n",
      "Policy for terminal state: | N |\n",
      "                            ---\n"
     ]
    }
   ],
   "source": [
    "pi, Q = q_learning(0, .99)\n",
    "print_policy(pi)"
   ]
  },
  {
   "cell_type": "markdown",
   "metadata": {
    "deletable": false,
    "editable": false,
    "nbgrader": {
     "checksum": "f8211c5750767a6a9ad1290cffb73aa7",
     "grade": false,
     "grade_id": "cell-d3383d13bae73e68",
     "locked": true,
     "schema_version": 1,
     "solution": false
    }
   },
   "source": [
    "You ran your implementation with $\\epsilon$ set to both 0 and 1. What are the results, and your conclusions?"
   ]
  },
  {
   "cell_type": "markdown",
   "metadata": {
    "deletable": false,
    "nbgrader": {
     "checksum": "f4556e9c53e5bfbac90a17601f48d1c1",
     "grade": true,
     "grade_id": "cell-54eb158e84c99275",
     "locked": false,
     "points": 0,
     "schema_version": 1,
     "solution": true
    }
   },
   "source": [
    "**Your answer:** (fill in here)"
   ]
  },
  {
   "cell_type": "markdown",
   "metadata": {
    "deletable": false,
    "editable": false,
    "nbgrader": {
     "checksum": "f272655e0a5e12f3fcfe70c514467e1f",
     "grade": false,
     "grade_id": "cell-ae2a001335118014",
     "locked": true,
     "schema_version": 1,
     "solution": false
    }
   },
   "source": [
    "# Task 3: Deep Double Q-learning (DDQN)\n",
    "For this task, you will implement a DDQN (double deep Q-learning network) to solve one of the problems of the OpenAI gym. Before we get into details about these type of networks, let's first review the simpler, DQN (deep Q-learning network) version. \n",
    "\n",
    "#### Deep Q Networks\n",
    "As we saw in the video lectures, using a neural network as a state action value approximator is a great idea. However, if one tries to use this approach with Q-learning, it's very likely that the optimization will be very unstable. To remediate this, two main ideas are used. First, we use experience replay, in order to decorrelate the experience samples we obtain when exploring the environment. Second, we use two networks instead of one, in order to fix the optimization targets. That is, for a given minibatch sampled from the replay buffer, we'll optimize the weights of only one of the networks (commonly denoted as the \"online\" network), using the gradients w.r.t a loss function. This loss function is computed as the mean squared error between the current action values, computed according to the **online** network, and the temporal difference (TD) targets, computed using the other, **fixed network** (which we'll refer to as the \"target\" network).\n",
    "\n",
    "That is, the loss function is \n",
    "\n",
    "$$ L(\\theta) = \\frac{1}{N}\\sum_{i=1}^N \\left(Q(s_i,a_i; \\theta\\right) - Y_i)^2~,$$\n",
    "\n",
    "where $N$ is the number of samples in your minibatch, $Q(s,a;\\theta)$ is the state action value estimate, according to the online network (with parameters $\\theta$), and $Y_t$ is the TD target, computed as\n",
    "\n",
    "$$ Y_i = r_i +  \\gamma ~\\underset{a}{\\text{max}}~Q(s_i', a; \\theta^-)~, $$\n",
    "\n",
    "where $Q(s', a;\\theta')$ is the action value estimate, according to the fixed network (with parameters $\\theta^-$).\n",
    "\n",
    "Finally, so that the offline parameters are also updated, we periodically change the roles of the networks, fixing the online one, and training the other.\n",
    "\n",
    "#### Double Deep Q Networks\n",
    "\n",
    "The idea explained above works well in practice, but later it was discovered that this approach is very prone to overestimating the state action values. The main reason for this is that the max operator, used to select the greedy action when computing the TD target, uses the same values both to select and to evaluate an action (this tends to prefer overestimated actions). In order to prevent this, we can decouple the selection from the evaluation, which is the idea that created DDQN. More concretely, the TD target for a DDQN is now \n",
    "\n",
    "$$ Y_i = r_i + \\gamma Q(s_i', \\underset{a}{\\text{argmax}}Q(s_i',a;\\theta); \\theta^-)~. $$\n",
    "\n",
    "Hence, we're using the **online** network to select which action is best, but we use the **fixed** network to evaluate the state action value for that chosen action in the next state. This is what makes DDQN not overestimate (as much) the state action values, which in turn helps us to train faster and obtain better policies.\n",
    "\n",
    "\n"
   ]
  },
  {
   "cell_type": "markdown",
   "metadata": {
    "deletable": false,
    "editable": false,
    "nbgrader": {
     "checksum": "ffc8f76962e410ad44919896b9d0de31",
     "grade": false,
     "grade_id": "cell-b37fc5ebe369b45a",
     "locked": true,
     "schema_version": 1,
     "solution": false
    }
   },
   "source": [
    "#### Environment\n",
    "\n",
    "The problem you will solve for this task is the inverted pendulum problem. \n",
    "On [Open AIs environment documentation](https://gym.openai.com/envs/CartPole-v0) , the following description is provided:\n",
    "\n",
    "*A pole is attached by an un-actuated joint to a cart, which moves along a frictionless track. The system is controlled by applying a force of +1 or -1 to the cart. The pendulum starts upright, and the goal is to prevent it from falling over. A reward of +1 is provided for every time step that the pole remains upright. The episode ends when the pole is more than 15 degrees from vertical, or the cart moves more than 2.4 units from the center.*\n",
    "\n",
    "![title](./cartpole.jpg) \n",
    "\n",
    "#### Implementation\n",
    "We'll solve this task using a DDQN. Most of the code is provided for you, in the file **ddqn_model.py**. This file contains the implementation of a neural network, which is described in the table below (feel free to experiment with different architectures).\n",
    "\n",
    "|Layer 1: units, activation | Layer 2: units, activation | Layer 3: units, activation | Cost function |\n",
    "|---------------------------|----------------------------|----------------------------|---------------|\n",
    "| 100, ReLu                 | 60, ReLu                   | number of actions, linear | MSE           |\n",
    "\n",
    "The only missing part of the code is the function that computes the TD targets for each minibatch of samples."
   ]
  },
  {
   "cell_type": "markdown",
   "metadata": {
    "deletable": false,
    "editable": false,
    "nbgrader": {
     "checksum": "55a5b74265fad2a849d7bcf7b7d09d45",
     "grade": false,
     "grade_id": "cell-ae647de789982b2e",
     "locked": true,
     "schema_version": 1,
     "solution": false
    }
   },
   "source": [
    "## Task 3.1:  Calculate TD-target\n",
    "\n",
    "For this task, you will calculate the temporal difference target used for the loss in the double Q-learning algorithm. Your implementation should follow precisely the equation defined above for the TD target of DDQNs, with one exception: when s' is terminal, the TD target for it should simply be $ Y_i = r_i$. Why is this necessary?"
   ]
  },
  {
   "cell_type": "markdown",
   "metadata": {
    "deletable": false,
    "nbgrader": {
     "checksum": "40e03a98c7372496040da5499e1fc29a",
     "grade": true,
     "grade_id": "cell-d28bf13d3d581368",
     "locked": false,
     "points": 0,
     "schema_version": 1,
     "solution": true
    }
   },
   "source": [
    "**Your answer:** (fill in here)"
   ]
  },
  {
   "cell_type": "markdown",
   "metadata": {
    "deletable": false,
    "editable": false,
    "nbgrader": {
     "checksum": "f6a429aaede47e041414f7fac4093390",
     "grade": false,
     "grade_id": "cell-26a12456d7c70776",
     "locked": true,
     "schema_version": 1,
     "solution": false
    }
   },
   "source": [
    "Implement your function in the following cell."
   ]
  },
  {
   "cell_type": "code",
   "execution_count": 72,
   "metadata": {},
   "outputs": [
    {
     "name": "stdout",
     "output_type": "stream",
     "text": [
      "[3 4 5]\n"
     ]
    }
   ],
   "source": [
    "a=[[0],[0],[0],[1],[1],[1]]\n",
    "a=np.array(a)\n",
    "\n",
    "print(np.where(a==1)[0])\n",
    "y= np.where(a==1)[0]\n",
    "k=np.zeros(len(a))\n",
    "\n",
    "\n"
   ]
  },
  {
   "cell_type": "code",
   "execution_count": null,
   "metadata": {},
   "outputs": [],
   "source": []
  },
  {
   "cell_type": "code",
   "execution_count": 95,
   "metadata": {
    "deletable": false,
    "nbgrader": {
     "checksum": "5b73cff549519ebc4c082c01928539b0",
     "grade": true,
     "grade_id": "cell-e73bca0bd9d5574a",
     "locked": false,
     "points": 0,
     "schema_version": 1,
     "solution": true
    }
   },
   "outputs": [],
   "source": [
    "def calculate_td_targets(q1_batch, q2_batch, r_batch, t_batch, gamma=.99):\n",
    "    '''\n",
    "    Calculates the TD-target used for the loss\n",
    "    : param q1_batch: Batch of Q(s', a) from online network, shape (N, num actions)\n",
    "    : param q2_batch: Batch of Q(s', a) from target network, shape (N, num actions)\n",
    "    : param r_batch: Batch of rewards, shape (N, 1)\n",
    "    : param t_batch: Batch of booleans indicating if state, s' is terminal, shape (N, 1)\n",
    "    : return: TD-target, shape (N, 1)\n",
    "    '''\n",
    "\n",
    "\n",
    "    online_q_max = np.argmax(q1_batch,axis=1)\n",
    "    q_offline_action = []\n",
    "    for i,j in enumerate(online_q_max) :\n",
    "\n",
    "            q_offline_action.append(q2_batch[i,j])\n",
    "\n",
    "            \n",
    "\n",
    "    \n",
    "        \n",
    "    Y= r_batch + gamma* np.reshape(np.array(q_offline_action),(len(r_batch),1))\n",
    "    t_batch = np.array(t_batch)\n",
    "    terminal_states = np.where(t_batch ==1)[0]\n",
    "    for i in terminal_states :\n",
    "        Y[i]=r_batch[i]\n",
    "\n",
    "\n",
    "        \n",
    "\n",
    "    # YOUR CODE HERE\n",
    "    return Y"
   ]
  },
  {
   "cell_type": "markdown",
   "metadata": {
    "deletable": false,
    "editable": false,
    "nbgrader": {
     "checksum": "b22afaa707ff45fb62badaadf2d632e7",
     "grade": false,
     "grade_id": "cell-401656fa71e3f227",
     "locked": true,
     "schema_version": 1,
     "solution": false
    }
   },
   "source": [
    "Test your implementation by trying to solve the reinforcement learning problem for the Cartpole environment. The following cell defines the `train_loop_ddqn` function, which will be called ahead.\n",
    "\n",
    "**Note:** If you have issues with the env.render() command below on your system, you may simply comment it out. However, you would be missing out on a visualization of the training episodes."
   ]
  },
  {
   "cell_type": "code",
   "execution_count": 96,
   "metadata": {},
   "outputs": [],
   "source": [
    "# Import dependencies\n",
    "import numpy as np\n",
    "import gym\n",
    "from keras.utils.np_utils import to_categorical as one_hot\n",
    "from collections import namedtuple\n",
    "from dqn_model import DoubleQLearningModel, ExperienceReplay\n",
    "\n",
    "def train_loop_ddqn(model, env, num_episodes, batch_size=64, gamma=.94):        \n",
    "    Transition = namedtuple(\"Transition\", [\"s\", \"a\", \"r\", \"next_s\", \"t\"])\n",
    "    eps = 1.\n",
    "    eps_end = .1 \n",
    "    eps_decay = .001\n",
    "    R_buffer = []\n",
    "    R_avg = []\n",
    "    for i in range(num_episodes):\n",
    "        state = env.reset() #reset to initial state\n",
    "        state = np.expand_dims(state, axis=0)/2\n",
    "        terminal = False # reset terminal flag\n",
    "        ep_reward = 0\n",
    "        q_buffer = []\n",
    "        steps = 0\n",
    "        while not terminal:\n",
    "            env.render() # comment this line out if you don't want to / cannot render the environment on your system\n",
    "            steps += 1\n",
    "            q_values = model.get_q_values(state)\n",
    "            q_buffer.append(q_values)\n",
    "            policy = eps_greedy_policy(q_values.squeeze(), eps) \n",
    "            action = np.random.choice(num_actions, p=policy) # sample action from epsilon-greedy policy\n",
    "            new_state, reward, terminal, _ = env.step(action) # take one step in the evironment\n",
    "            new_state = np.expand_dims(new_state, axis=0)/2\n",
    "            \n",
    "            # only use the terminal flag for ending the episode and not for training\n",
    "            # if the flag is set due to that the maximum amount of steps is reached \n",
    "            t_to_buffer = terminal if not steps == 200 else False\n",
    "            \n",
    "            # store data to replay buffer\n",
    "            replay_buffer.add(Transition(s=state, a=action, r=reward, next_s=new_state, t=t_to_buffer))\n",
    "            state = new_state\n",
    "            ep_reward += reward\n",
    "            \n",
    "            # if buffer contains more than 1000 samples, perform one training step\n",
    "            if replay_buffer.buffer_length > 1000:\n",
    "                s, a, r, s_, t = replay_buffer.sample_minibatch(batch_size) # sample a minibatch of transitions\n",
    "                q_1, q_2 = model.get_q_values_for_both_models(np.squeeze(s_))\n",
    "                td_target = calculate_td_targets(q_1, q_2, r, t, gamma)\n",
    "                model.update(s, td_target, a)    \n",
    "                \n",
    "        eps = max(eps - eps_decay, eps_end) # decrease epsilon        \n",
    "        R_buffer.append(ep_reward)\n",
    "        \n",
    "        # running average of episodic rewards\n",
    "        R_avg.append(.05 * R_buffer[i] + .95 * R_avg[i-1]) if i > 0 else R_avg.append(R_buffer[i])\n",
    "        print('Episode: ', i, 'Reward:', ep_reward, 'Epsilon', eps, 'mean q', np.mean(np.array(q_buffer)))\n",
    "        \n",
    "        # if running average > 195, the task is considerd solved\n",
    "        if R_avg[-1] > 195:\n",
    "            return R_buffer, R_avg\n",
    "    return R_buffer, R_avg"
   ]
  },
  {
   "cell_type": "markdown",
   "metadata": {
    "deletable": false,
    "editable": false,
    "nbgrader": {
     "checksum": "51f90902daf95d61d17b1d2c32877abf",
     "grade": false,
     "grade_id": "cell-75c84628ce999711",
     "locked": true,
     "schema_version": 1,
     "solution": false
    }
   },
   "source": [
    "and the next cell performs the actual training. \n",
    "\n",
    "A Working implementation should start to improve after 500 episodes. An episodic reward of around 200 is likely to be achieved after 800 episodes for a batchsize of 128, and 1000 episodes for a batchsize of 64. "
   ]
  },
  {
   "cell_type": "code",
   "execution_count": 97,
   "metadata": {},
   "outputs": [
    {
     "name": "stdout",
     "output_type": "stream",
     "text": [
      "Episode:  0 Reward: 17.0 Epsilon 0.999 mean q -1.5536547e-07\n",
      "Episode:  1 Reward: 16.0 Epsilon 0.998 mean q -2.137499e-07\n",
      "Episode:  2 Reward: 15.0 Epsilon 0.997 mean q 1.6974018e-07\n",
      "Episode:  3 Reward: 33.0 Epsilon 0.996 mean q 4.946875e-08\n",
      "Episode:  4 Reward: 25.0 Epsilon 0.995 mean q -1.2078101e-07\n",
      "Episode:  5 Reward: 12.0 Epsilon 0.994 mean q -2.8869655e-07\n",
      "Episode:  6 Reward: 32.0 Epsilon 0.993 mean q -1.276474e-07\n",
      "Episode:  7 Reward: 18.0 Epsilon 0.992 mean q 1.2807854e-07\n",
      "Episode:  8 Reward: 20.0 Epsilon 0.991 mean q -1.13018096e-07\n",
      "Episode:  9 Reward: 17.0 Epsilon 0.99 mean q 9.279543e-08\n",
      "Episode:  10 Reward: 19.0 Epsilon 0.989 mean q 9.797842e-08\n",
      "Episode:  11 Reward: 16.0 Epsilon 0.988 mean q 1.14526785e-07\n",
      "Episode:  12 Reward: 28.0 Epsilon 0.987 mean q -1.3186205e-08\n",
      "Episode:  13 Reward: 12.0 Epsilon 0.986 mean q -2.2343072e-07\n",
      "Episode:  14 Reward: 10.0 Epsilon 0.985 mean q -2.5671216e-07\n",
      "Episode:  15 Reward: 9.0 Epsilon 0.984 mean q -2.690589e-07\n",
      "Episode:  16 Reward: 16.0 Epsilon 0.983 mean q -1.9614004e-07\n",
      "Episode:  17 Reward: 21.0 Epsilon 0.982 mean q 1.1033957e-07\n",
      "Episode:  18 Reward: 18.0 Epsilon 0.981 mean q 1.6394978e-07\n",
      "Episode:  19 Reward: 39.0 Epsilon 0.98 mean q -9.9954306e-08\n",
      "Episode:  20 Reward: 23.0 Epsilon 0.979 mean q -1.577473e-07\n",
      "Episode:  21 Reward: 52.0 Epsilon 0.978 mean q -2.9461038e-08\n",
      "Episode:  22 Reward: 49.0 Epsilon 0.977 mean q -1.3440824e-07\n",
      "Episode:  23 Reward: 18.0 Epsilon 0.976 mean q -1.7210822e-07\n",
      "Episode:  24 Reward: 11.0 Epsilon 0.975 mean q 2.0616193e-07\n",
      "Episode:  25 Reward: 27.0 Epsilon 0.974 mean q 4.4519403e-08\n",
      "Episode:  26 Reward: 13.0 Epsilon 0.973 mean q 1.536029e-07\n",
      "Episode:  27 Reward: 18.0 Epsilon 0.972 mean q -1.4403706e-07\n",
      "Episode:  28 Reward: 17.0 Epsilon 0.971 mean q 1.2690398e-07\n",
      "Episode:  29 Reward: 20.0 Epsilon 0.97 mean q 1.320188e-07\n",
      "Episode:  30 Reward: 27.0 Epsilon 0.969 mean q 6.3891974e-08\n",
      "Episode:  31 Reward: 33.0 Epsilon 0.968 mean q 6.766621e-08\n",
      "Episode:  32 Reward: 27.0 Epsilon 0.967 mean q -1.7671994e-07\n",
      "Episode:  33 Reward: 33.0 Epsilon 0.966 mean q -1.2997566e-07\n",
      "Episode:  34 Reward: 17.0 Epsilon 0.965 mean q -1.4079436e-07\n",
      "Episode:  35 Reward: 12.0 Epsilon 0.964 mean q -1.8819242e-07\n",
      "Episode:  36 Reward: 13.0 Epsilon 0.963 mean q -2.1575222e-07\n",
      "Episode:  37 Reward: 60.0 Epsilon 0.962 mean q -1.8282032e-07\n",
      "Episode:  38 Reward: 72.0 Epsilon 0.961 mean q -1.1026744e-07\n",
      "Episode:  39 Reward: 34.0 Epsilon 0.96 mean q -1.4483954e-09\n",
      "Episode:  40 Reward: 14.0 Epsilon 0.959 mean q 1.9089414e-07\n",
      "Episode:  41 Reward: 16.0 Epsilon 0.958 mean q 1.3594405e-07\n",
      "Episode:  42 Reward: 15.0 Epsilon 0.957 mean q 0.0039990786\n",
      "Episode:  43 Reward: 21.0 Epsilon 0.956 mean q 0.008981253\n",
      "Episode:  44 Reward: 25.0 Epsilon 0.955 mean q 0.012255259\n",
      "Episode:  45 Reward: 33.0 Epsilon 0.954 mean q 0.021435088\n",
      "Episode:  46 Reward: 18.0 Epsilon 0.953 mean q 0.04312456\n",
      "Episode:  47 Reward: 14.0 Epsilon 0.952 mean q 0.063776396\n",
      "Episode:  48 Reward: 14.0 Epsilon 0.951 mean q 0.08043895\n",
      "Episode:  49 Reward: 23.0 Epsilon 0.95 mean q 0.05439443\n",
      "Episode:  50 Reward: 38.0 Epsilon 0.949 mean q 0.06889623\n",
      "Episode:  51 Reward: 31.0 Epsilon 0.948 mean q 0.100085475\n",
      "Episode:  52 Reward: 14.0 Epsilon 0.947 mean q 0.16250189\n",
      "Episode:  53 Reward: 22.0 Epsilon 0.946 mean q 0.13860452\n",
      "Episode:  54 Reward: 16.0 Epsilon 0.945 mean q 0.16034134\n",
      "Episode:  55 Reward: 19.0 Epsilon 0.944 mean q 0.20320775\n",
      "Episode:  56 Reward: 14.0 Epsilon 0.943 mean q 0.18144488\n",
      "Episode:  57 Reward: 15.0 Epsilon 0.942 mean q 0.26632625\n",
      "Episode:  58 Reward: 41.0 Epsilon 0.941 mean q 0.2291581\n",
      "Episode:  59 Reward: 24.0 Epsilon 0.94 mean q 0.25761458\n",
      "Episode:  60 Reward: 24.0 Epsilon 0.939 mean q 0.3092265\n",
      "Episode:  61 Reward: 13.0 Epsilon 0.938 mean q 0.49490198\n",
      "Episode:  62 Reward: 20.0 Epsilon 0.9369999999999999 mean q 0.38544458\n",
      "Episode:  63 Reward: 23.0 Epsilon 0.9359999999999999 mean q 0.45334774\n",
      "Episode:  64 Reward: 18.0 Epsilon 0.9349999999999999 mean q 0.44326025\n",
      "Episode:  65 Reward: 20.0 Epsilon 0.9339999999999999 mean q 0.4536541\n",
      "Episode:  66 Reward: 38.0 Epsilon 0.9329999999999999 mean q 0.5887989\n",
      "Episode:  67 Reward: 12.0 Epsilon 0.9319999999999999 mean q 0.9035363\n",
      "Episode:  68 Reward: 22.0 Epsilon 0.9309999999999999 mean q 0.5686017\n",
      "Episode:  69 Reward: 21.0 Epsilon 0.9299999999999999 mean q 0.76088464\n",
      "Episode:  70 Reward: 19.0 Epsilon 0.9289999999999999 mean q 0.676676\n",
      "Episode:  71 Reward: 18.0 Epsilon 0.9279999999999999 mean q 0.7959009\n",
      "Episode:  72 Reward: 21.0 Epsilon 0.9269999999999999 mean q 0.8060081\n",
      "Episode:  73 Reward: 28.0 Epsilon 0.9259999999999999 mean q 0.739114\n",
      "Episode:  74 Reward: 12.0 Epsilon 0.9249999999999999 mean q 1.123518\n",
      "Episode:  75 Reward: 17.0 Epsilon 0.9239999999999999 mean q 1.0231496\n",
      "Episode:  76 Reward: 19.0 Epsilon 0.9229999999999999 mean q 1.0348866\n",
      "Episode:  77 Reward: 18.0 Epsilon 0.9219999999999999 mean q 1.2764738\n",
      "Episode:  78 Reward: 24.0 Epsilon 0.9209999999999999 mean q 1.3645042\n",
      "Episode:  79 Reward: 24.0 Epsilon 0.9199999999999999 mean q 0.9692924\n",
      "Episode:  80 Reward: 32.0 Epsilon 0.9189999999999999 mean q 1.2237003\n",
      "Episode:  81 Reward: 14.0 Epsilon 0.9179999999999999 mean q 1.5055667\n",
      "Episode:  82 Reward: 27.0 Epsilon 0.9169999999999999 mean q 1.2899051\n",
      "Episode:  83 Reward: 11.0 Epsilon 0.9159999999999999 mean q 2.2966259\n",
      "Episode:  84 Reward: 14.0 Epsilon 0.9149999999999999 mean q 1.8512039\n",
      "Episode:  85 Reward: 16.0 Epsilon 0.9139999999999999 mean q 1.7279255\n",
      "Episode:  86 Reward: 17.0 Epsilon 0.9129999999999999 mean q 1.9987557\n",
      "Episode:  87 Reward: 13.0 Epsilon 0.9119999999999999 mean q 2.5154393\n",
      "Episode:  88 Reward: 17.0 Epsilon 0.9109999999999999 mean q 1.9146645\n",
      "Episode:  89 Reward: 12.0 Epsilon 0.9099999999999999 mean q 2.3690042\n",
      "Episode:  90 Reward: 19.0 Epsilon 0.9089999999999999 mean q 2.035713\n",
      "Episode:  91 Reward: 8.0 Epsilon 0.9079999999999999 mean q 3.1064072\n",
      "Episode:  92 Reward: 23.0 Epsilon 0.9069999999999999 mean q 1.8417472\n",
      "Episode:  93 Reward: 21.0 Epsilon 0.9059999999999999 mean q 2.1878955\n",
      "Episode:  94 Reward: 18.0 Epsilon 0.9049999999999999 mean q 2.496366\n",
      "Episode:  95 Reward: 22.0 Epsilon 0.9039999999999999 mean q 2.48581\n",
      "Episode:  96 Reward: 16.0 Epsilon 0.9029999999999999 mean q 2.4530807\n",
      "Episode:  97 Reward: 24.0 Epsilon 0.9019999999999999 mean q 2.2458913\n",
      "Episode:  98 Reward: 9.0 Epsilon 0.9009999999999999 mean q 3.9078128\n",
      "Episode:  99 Reward: 10.0 Epsilon 0.8999999999999999 mean q 3.4485164\n",
      "Episode:  100 Reward: 14.0 Epsilon 0.8989999999999999 mean q 3.578317\n",
      "Episode:  101 Reward: 10.0 Epsilon 0.8979999999999999 mean q 4.404817\n",
      "Episode:  102 Reward: 12.0 Epsilon 0.8969999999999999 mean q 3.5646\n",
      "Episode:  103 Reward: 22.0 Epsilon 0.8959999999999999 mean q 2.5287702\n",
      "Episode:  104 Reward: 11.0 Epsilon 0.8949999999999999 mean q 3.3116937\n",
      "Episode:  105 Reward: 75.0 Epsilon 0.8939999999999999 mean q 3.7065048\n",
      "Episode:  106 Reward: 12.0 Epsilon 0.8929999999999999 mean q 4.223596\n",
      "Episode:  107 Reward: 9.0 Epsilon 0.8919999999999999 mean q 4.6145625\n",
      "Episode:  108 Reward: 22.0 Epsilon 0.8909999999999999 mean q 3.4261942\n",
      "Episode:  109 Reward: 15.0 Epsilon 0.8899999999999999 mean q 4.2475104\n",
      "Episode:  110 Reward: 49.0 Epsilon 0.8889999999999999 mean q 3.4720025\n",
      "Episode:  111 Reward: 12.0 Epsilon 0.8879999999999999 mean q 5.083782\n",
      "Episode:  112 Reward: 14.0 Epsilon 0.8869999999999999 mean q 4.0889487\n",
      "Episode:  113 Reward: 20.0 Epsilon 0.8859999999999999 mean q 3.5491662\n",
      "Episode:  114 Reward: 19.0 Epsilon 0.8849999999999999 mean q 3.8799138\n",
      "Episode:  115 Reward: 19.0 Epsilon 0.8839999999999999 mean q 4.301586\n",
      "Episode:  116 Reward: 36.0 Epsilon 0.8829999999999999 mean q 3.837078\n",
      "Episode:  117 Reward: 30.0 Epsilon 0.8819999999999999 mean q 3.2667792\n",
      "Episode:  118 Reward: 42.0 Epsilon 0.8809999999999999 mean q 4.13516\n",
      "Episode:  119 Reward: 41.0 Epsilon 0.8799999999999999 mean q 4.004624\n",
      "Episode:  120 Reward: 20.0 Epsilon 0.8789999999999999 mean q 4.900369\n",
      "Episode:  121 Reward: 20.0 Epsilon 0.8779999999999999 mean q 4.726458\n",
      "Episode:  122 Reward: 22.0 Epsilon 0.8769999999999999 mean q 4.9399543\n",
      "Episode:  123 Reward: 14.0 Epsilon 0.8759999999999999 mean q 6.485204\n",
      "Episode:  124 Reward: 12.0 Epsilon 0.8749999999999999 mean q 5.536804\n",
      "Episode:  125 Reward: 52.0 Epsilon 0.8739999999999999 mean q 6.759092\n",
      "Episode:  126 Reward: 16.0 Epsilon 0.8729999999999999 mean q 5.3785925\n",
      "Episode:  127 Reward: 16.0 Epsilon 0.8719999999999999 mean q 5.135929\n",
      "Episode:  128 Reward: 12.0 Epsilon 0.8709999999999999 mean q 7.6289897\n",
      "Episode:  129 Reward: 18.0 Epsilon 0.8699999999999999 mean q 4.9629364\n",
      "Episode:  130 Reward: 11.0 Epsilon 0.8689999999999999 mean q 6.5713444\n",
      "Episode:  131 Reward: 21.0 Epsilon 0.8679999999999999 mean q 6.0366964\n",
      "Episode:  132 Reward: 15.0 Epsilon 0.8669999999999999 mean q 6.2885947\n",
      "Episode:  133 Reward: 11.0 Epsilon 0.8659999999999999 mean q 7.5750074\n",
      "Episode:  134 Reward: 22.0 Epsilon 0.8649999999999999 mean q 5.30777\n",
      "Episode:  135 Reward: 26.0 Epsilon 0.8639999999999999 mean q 6.300692\n",
      "Episode:  136 Reward: 20.0 Epsilon 0.8629999999999999 mean q 5.537783\n",
      "Episode:  137 Reward: 18.0 Epsilon 0.8619999999999999 mean q 7.137533\n",
      "Episode:  138 Reward: 10.0 Epsilon 0.8609999999999999 mean q 7.7805724\n",
      "Episode:  139 Reward: 11.0 Epsilon 0.8599999999999999 mean q 9.024529\n",
      "Episode:  140 Reward: 15.0 Epsilon 0.8589999999999999 mean q 7.981378\n",
      "Episode:  141 Reward: 11.0 Epsilon 0.8579999999999999 mean q 6.8617787\n",
      "Episode:  142 Reward: 17.0 Epsilon 0.8569999999999999 mean q 6.5283055\n",
      "Episode:  143 Reward: 13.0 Epsilon 0.8559999999999999 mean q 7.3150864\n",
      "Episode:  144 Reward: 20.0 Epsilon 0.8549999999999999 mean q 7.09505\n",
      "Episode:  145 Reward: 14.0 Epsilon 0.8539999999999999 mean q 7.913153\n",
      "Episode:  146 Reward: 15.0 Epsilon 0.8529999999999999 mean q 7.6654267\n",
      "Episode:  147 Reward: 12.0 Epsilon 0.8519999999999999 mean q 8.346487\n",
      "Episode:  148 Reward: 14.0 Epsilon 0.8509999999999999 mean q 7.991941\n",
      "Episode:  149 Reward: 15.0 Epsilon 0.8499999999999999 mean q 8.172387\n",
      "Episode:  150 Reward: 25.0 Epsilon 0.8489999999999999 mean q 10.384102\n",
      "Episode:  151 Reward: 17.0 Epsilon 0.8479999999999999 mean q 7.264431\n",
      "Episode:  152 Reward: 12.0 Epsilon 0.8469999999999999 mean q 8.518573\n",
      "Episode:  153 Reward: 11.0 Epsilon 0.8459999999999999 mean q 10.661388\n",
      "Episode:  154 Reward: 11.0 Epsilon 0.8449999999999999 mean q 9.545142\n",
      "Episode:  155 Reward: 13.0 Epsilon 0.8439999999999999 mean q 8.463168\n",
      "Episode:  156 Reward: 18.0 Epsilon 0.8429999999999999 mean q 9.348129\n",
      "Episode:  157 Reward: 10.0 Epsilon 0.8419999999999999 mean q 9.78925\n",
      "Episode:  158 Reward: 17.0 Epsilon 0.8409999999999999 mean q 7.6904745\n",
      "Episode:  159 Reward: 28.0 Epsilon 0.8399999999999999 mean q 8.600842\n",
      "Episode:  160 Reward: 30.0 Epsilon 0.8389999999999999 mean q 7.610269\n",
      "Episode:  161 Reward: 25.0 Epsilon 0.8379999999999999 mean q 6.9035225\n",
      "Episode:  162 Reward: 33.0 Epsilon 0.8369999999999999 mean q 10.932757\n",
      "Episode:  163 Reward: 38.0 Epsilon 0.8359999999999999 mean q 7.1915803\n",
      "Episode:  164 Reward: 9.0 Epsilon 0.8349999999999999 mean q 11.439161\n",
      "Episode:  165 Reward: 17.0 Epsilon 0.8339999999999999 mean q 10.633612\n",
      "Episode:  166 Reward: 20.0 Epsilon 0.8329999999999999 mean q 9.711304\n",
      "Episode:  167 Reward: 13.0 Epsilon 0.8319999999999999 mean q 10.954707\n",
      "Episode:  168 Reward: 33.0 Epsilon 0.8309999999999998 mean q 8.392387\n",
      "Episode:  169 Reward: 13.0 Epsilon 0.8299999999999998 mean q 12.378165\n",
      "Episode:  170 Reward: 23.0 Epsilon 0.8289999999999998 mean q 9.824606\n",
      "Episode:  171 Reward: 23.0 Epsilon 0.8279999999999998 mean q 8.369721\n",
      "Episode:  172 Reward: 19.0 Epsilon 0.8269999999999998 mean q 9.810066\n",
      "Episode:  173 Reward: 11.0 Epsilon 0.8259999999999998 mean q 11.3484\n",
      "Episode:  174 Reward: 19.0 Epsilon 0.8249999999999998 mean q 10.5915985\n",
      "Episode:  175 Reward: 23.0 Epsilon 0.8239999999999998 mean q 9.199868\n",
      "Episode:  176 Reward: 11.0 Epsilon 0.8229999999999998 mean q 9.49022\n",
      "Episode:  177 Reward: 16.0 Epsilon 0.8219999999999998 mean q 10.8642\n",
      "Episode:  178 Reward: 27.0 Epsilon 0.8209999999999998 mean q 9.141631\n",
      "Episode:  179 Reward: 26.0 Epsilon 0.8199999999999998 mean q 8.358314\n",
      "Episode:  180 Reward: 24.0 Epsilon 0.8189999999999998 mean q 9.914922\n",
      "Episode:  181 Reward: 14.0 Epsilon 0.8179999999999998 mean q 11.822195\n",
      "Episode:  182 Reward: 40.0 Epsilon 0.8169999999999998 mean q 10.641172\n",
      "Episode:  183 Reward: 26.0 Epsilon 0.8159999999999998 mean q 11.869694\n",
      "Episode:  184 Reward: 22.0 Epsilon 0.8149999999999998 mean q 12.133817\n",
      "Episode:  185 Reward: 33.0 Epsilon 0.8139999999999998 mean q 8.561478\n",
      "Episode:  186 Reward: 12.0 Epsilon 0.8129999999999998 mean q 12.42596\n",
      "Episode:  187 Reward: 21.0 Epsilon 0.8119999999999998 mean q 9.452413\n",
      "Episode:  188 Reward: 17.0 Epsilon 0.8109999999999998 mean q 12.831842\n",
      "Episode:  189 Reward: 12.0 Epsilon 0.8099999999999998 mean q 15.074901\n",
      "Episode:  190 Reward: 13.0 Epsilon 0.8089999999999998 mean q 14.749648\n",
      "Episode:  191 Reward: 23.0 Epsilon 0.8079999999999998 mean q 11.189773\n",
      "Episode:  192 Reward: 30.0 Epsilon 0.8069999999999998 mean q 11.754995\n",
      "Episode:  193 Reward: 13.0 Epsilon 0.8059999999999998 mean q 10.36625\n",
      "Episode:  194 Reward: 9.0 Epsilon 0.8049999999999998 mean q 14.786652\n",
      "Episode:  195 Reward: 14.0 Epsilon 0.8039999999999998 mean q 13.5628605\n",
      "Episode:  196 Reward: 13.0 Epsilon 0.8029999999999998 mean q 14.418461\n",
      "Episode:  197 Reward: 17.0 Epsilon 0.8019999999999998 mean q 13.940265\n",
      "Episode:  198 Reward: 42.0 Epsilon 0.8009999999999998 mean q 10.086014\n",
      "Episode:  199 Reward: 21.0 Epsilon 0.7999999999999998 mean q 9.992341\n",
      "Episode:  200 Reward: 47.0 Epsilon 0.7989999999999998 mean q 11.108516\n",
      "Episode:  201 Reward: 15.0 Epsilon 0.7979999999999998 mean q 14.495643\n",
      "Episode:  202 Reward: 14.0 Epsilon 0.7969999999999998 mean q 10.949396\n",
      "Episode:  203 Reward: 26.0 Epsilon 0.7959999999999998 mean q 12.090245\n",
      "Episode:  204 Reward: 15.0 Epsilon 0.7949999999999998 mean q 13.740768\n",
      "Episode:  205 Reward: 11.0 Epsilon 0.7939999999999998 mean q 14.457371\n",
      "Episode:  206 Reward: 11.0 Epsilon 0.7929999999999998 mean q 14.305019\n",
      "Episode:  207 Reward: 10.0 Epsilon 0.7919999999999998 mean q 16.619114\n",
      "Episode:  208 Reward: 12.0 Epsilon 0.7909999999999998 mean q 14.914813\n",
      "Episode:  209 Reward: 14.0 Epsilon 0.7899999999999998 mean q 14.3581295\n",
      "Episode:  210 Reward: 31.0 Epsilon 0.7889999999999998 mean q 11.814634\n",
      "Episode:  211 Reward: 28.0 Epsilon 0.7879999999999998 mean q 13.80803\n",
      "Episode:  212 Reward: 23.0 Epsilon 0.7869999999999998 mean q 12.828609\n",
      "Episode:  213 Reward: 21.0 Epsilon 0.7859999999999998 mean q 12.244607\n",
      "Episode:  214 Reward: 32.0 Epsilon 0.7849999999999998 mean q 12.079758\n",
      "Episode:  215 Reward: 17.0 Epsilon 0.7839999999999998 mean q 14.798456\n",
      "Episode:  216 Reward: 18.0 Epsilon 0.7829999999999998 mean q 13.58885\n",
      "Episode:  217 Reward: 16.0 Epsilon 0.7819999999999998 mean q 14.72814\n",
      "Episode:  218 Reward: 28.0 Epsilon 0.7809999999999998 mean q 12.599313\n",
      "Episode:  219 Reward: 10.0 Epsilon 0.7799999999999998 mean q 14.960108\n",
      "Episode:  220 Reward: 16.0 Epsilon 0.7789999999999998 mean q 13.313112\n",
      "Episode:  221 Reward: 22.0 Epsilon 0.7779999999999998 mean q 13.0168\n",
      "Episode:  222 Reward: 15.0 Epsilon 0.7769999999999998 mean q 15.076236\n",
      "Episode:  223 Reward: 12.0 Epsilon 0.7759999999999998 mean q 16.278662\n",
      "Episode:  224 Reward: 21.0 Epsilon 0.7749999999999998 mean q 12.875966\n",
      "Episode:  225 Reward: 13.0 Epsilon 0.7739999999999998 mean q 14.5978\n",
      "Episode:  226 Reward: 15.0 Epsilon 0.7729999999999998 mean q 16.286068\n",
      "Episode:  227 Reward: 18.0 Epsilon 0.7719999999999998 mean q 14.124009\n",
      "Episode:  228 Reward: 31.0 Epsilon 0.7709999999999998 mean q 14.635319\n",
      "Episode:  229 Reward: 14.0 Epsilon 0.7699999999999998 mean q 14.139654\n",
      "Episode:  230 Reward: 18.0 Epsilon 0.7689999999999998 mean q 15.228419\n",
      "Episode:  231 Reward: 11.0 Epsilon 0.7679999999999998 mean q 14.757511\n",
      "Episode:  232 Reward: 15.0 Epsilon 0.7669999999999998 mean q 14.812121\n",
      "Episode:  233 Reward: 27.0 Epsilon 0.7659999999999998 mean q 11.997077\n",
      "Episode:  234 Reward: 12.0 Epsilon 0.7649999999999998 mean q 13.243356\n",
      "Episode:  235 Reward: 16.0 Epsilon 0.7639999999999998 mean q 12.360773\n",
      "Episode:  236 Reward: 13.0 Epsilon 0.7629999999999998 mean q 12.328912\n",
      "Episode:  237 Reward: 14.0 Epsilon 0.7619999999999998 mean q 15.523905\n",
      "Episode:  238 Reward: 12.0 Epsilon 0.7609999999999998 mean q 13.508811\n",
      "Episode:  239 Reward: 19.0 Epsilon 0.7599999999999998 mean q 14.697558\n",
      "Episode:  240 Reward: 24.0 Epsilon 0.7589999999999998 mean q 14.1519165\n",
      "Episode:  241 Reward: 21.0 Epsilon 0.7579999999999998 mean q 12.467522\n",
      "Episode:  242 Reward: 16.0 Epsilon 0.7569999999999998 mean q 14.565539\n",
      "Episode:  243 Reward: 26.0 Epsilon 0.7559999999999998 mean q 14.033283\n",
      "Episode:  244 Reward: 32.0 Epsilon 0.7549999999999998 mean q 13.219984\n",
      "Episode:  245 Reward: 21.0 Epsilon 0.7539999999999998 mean q 14.154663\n",
      "Episode:  246 Reward: 20.0 Epsilon 0.7529999999999998 mean q 14.309372\n",
      "Episode:  247 Reward: 22.0 Epsilon 0.7519999999999998 mean q 13.2191\n",
      "Episode:  248 Reward: 20.0 Epsilon 0.7509999999999998 mean q 13.614019\n",
      "Episode:  249 Reward: 30.0 Epsilon 0.7499999999999998 mean q 13.847031\n",
      "Episode:  250 Reward: 28.0 Epsilon 0.7489999999999998 mean q 12.970708\n",
      "Episode:  251 Reward: 20.0 Epsilon 0.7479999999999998 mean q 12.582344\n",
      "Episode:  252 Reward: 9.0 Epsilon 0.7469999999999998 mean q 15.268271\n",
      "Episode:  253 Reward: 16.0 Epsilon 0.7459999999999998 mean q 13.664559\n",
      "Episode:  254 Reward: 17.0 Epsilon 0.7449999999999998 mean q 12.426267\n",
      "Episode:  255 Reward: 12.0 Epsilon 0.7439999999999998 mean q 14.283028\n",
      "Episode:  256 Reward: 9.0 Epsilon 0.7429999999999998 mean q 13.515803\n",
      "Episode:  257 Reward: 14.0 Epsilon 0.7419999999999998 mean q 13.44702\n",
      "Episode:  258 Reward: 11.0 Epsilon 0.7409999999999998 mean q 15.447217\n",
      "Episode:  259 Reward: 11.0 Epsilon 0.7399999999999998 mean q 16.052153\n",
      "Episode:  260 Reward: 30.0 Epsilon 0.7389999999999998 mean q 12.57535\n",
      "Episode:  261 Reward: 14.0 Epsilon 0.7379999999999998 mean q 14.586657\n",
      "Episode:  262 Reward: 15.0 Epsilon 0.7369999999999998 mean q 14.563241\n",
      "Episode:  263 Reward: 11.0 Epsilon 0.7359999999999998 mean q 14.103008\n",
      "Episode:  264 Reward: 11.0 Epsilon 0.7349999999999998 mean q 13.985854\n",
      "Episode:  265 Reward: 11.0 Epsilon 0.7339999999999998 mean q 14.089039\n",
      "Episode:  266 Reward: 13.0 Epsilon 0.7329999999999998 mean q 14.849731\n",
      "Episode:  267 Reward: 23.0 Epsilon 0.7319999999999998 mean q 13.706429\n",
      "Episode:  268 Reward: 12.0 Epsilon 0.7309999999999998 mean q 13.412951\n",
      "Episode:  269 Reward: 16.0 Epsilon 0.7299999999999998 mean q 13.519435\n",
      "Episode:  270 Reward: 17.0 Epsilon 0.7289999999999998 mean q 13.924444\n",
      "Episode:  271 Reward: 11.0 Epsilon 0.7279999999999998 mean q 13.955923\n",
      "Episode:  272 Reward: 15.0 Epsilon 0.7269999999999998 mean q 12.79694\n",
      "Episode:  273 Reward: 15.0 Epsilon 0.7259999999999998 mean q 12.547126\n",
      "Episode:  274 Reward: 12.0 Epsilon 0.7249999999999998 mean q 12.250774\n",
      "Episode:  275 Reward: 12.0 Epsilon 0.7239999999999998 mean q 13.461459\n",
      "Episode:  276 Reward: 12.0 Epsilon 0.7229999999999998 mean q 13.354556\n",
      "Episode:  277 Reward: 15.0 Epsilon 0.7219999999999998 mean q 12.534929\n",
      "Episode:  278 Reward: 17.0 Epsilon 0.7209999999999998 mean q 13.078072\n",
      "Episode:  279 Reward: 22.0 Epsilon 0.7199999999999998 mean q 12.310195\n",
      "Episode:  280 Reward: 15.0 Epsilon 0.7189999999999998 mean q 12.510661\n",
      "Episode:  281 Reward: 13.0 Epsilon 0.7179999999999997 mean q 12.90008\n",
      "Episode:  282 Reward: 20.0 Epsilon 0.7169999999999997 mean q 12.860535\n",
      "Episode:  283 Reward: 13.0 Epsilon 0.7159999999999997 mean q 12.645735\n",
      "Episode:  284 Reward: 11.0 Epsilon 0.7149999999999997 mean q 13.580505\n",
      "Episode:  285 Reward: 9.0 Epsilon 0.7139999999999997 mean q 13.974743\n",
      "Episode:  286 Reward: 11.0 Epsilon 0.7129999999999997 mean q 13.113263\n",
      "Episode:  287 Reward: 13.0 Epsilon 0.7119999999999997 mean q 13.276869\n",
      "Episode:  288 Reward: 10.0 Epsilon 0.7109999999999997 mean q 13.105662\n",
      "Episode:  289 Reward: 12.0 Epsilon 0.7099999999999997 mean q 12.376945\n",
      "Episode:  290 Reward: 13.0 Epsilon 0.7089999999999997 mean q 12.705008\n",
      "Episode:  291 Reward: 11.0 Epsilon 0.7079999999999997 mean q 13.632159\n",
      "Episode:  292 Reward: 11.0 Epsilon 0.7069999999999997 mean q 13.54771\n",
      "Episode:  293 Reward: 23.0 Epsilon 0.7059999999999997 mean q 12.768393\n",
      "Episode:  294 Reward: 14.0 Epsilon 0.7049999999999997 mean q 13.522772\n",
      "Episode:  295 Reward: 9.0 Epsilon 0.7039999999999997 mean q 13.019747\n",
      "Episode:  296 Reward: 12.0 Epsilon 0.7029999999999997 mean q 13.1993685\n",
      "Episode:  297 Reward: 15.0 Epsilon 0.7019999999999997 mean q 12.190686\n",
      "Episode:  298 Reward: 13.0 Epsilon 0.7009999999999997 mean q 12.770021\n",
      "Episode:  299 Reward: 11.0 Epsilon 0.6999999999999997 mean q 13.59773\n",
      "Episode:  300 Reward: 12.0 Epsilon 0.6989999999999997 mean q 13.246471\n",
      "Episode:  301 Reward: 18.0 Epsilon 0.6979999999999997 mean q 12.77651\n",
      "Episode:  302 Reward: 16.0 Epsilon 0.6969999999999997 mean q 11.931276\n",
      "Episode:  303 Reward: 15.0 Epsilon 0.6959999999999997 mean q 12.872193\n",
      "Episode:  304 Reward: 22.0 Epsilon 0.6949999999999997 mean q 11.692921\n",
      "Episode:  305 Reward: 12.0 Epsilon 0.6939999999999997 mean q 13.26078\n",
      "Episode:  306 Reward: 12.0 Epsilon 0.6929999999999997 mean q 11.757859\n",
      "Episode:  307 Reward: 12.0 Epsilon 0.6919999999999997 mean q 13.74221\n",
      "Episode:  308 Reward: 14.0 Epsilon 0.6909999999999997 mean q 11.68625\n",
      "Episode:  309 Reward: 41.0 Epsilon 0.6899999999999997 mean q 11.88852\n",
      "Episode:  310 Reward: 17.0 Epsilon 0.6889999999999997 mean q 12.836215\n",
      "Episode:  311 Reward: 16.0 Epsilon 0.6879999999999997 mean q 12.638298\n",
      "Episode:  312 Reward: 15.0 Epsilon 0.6869999999999997 mean q 11.715211\n",
      "Episode:  313 Reward: 10.0 Epsilon 0.6859999999999997 mean q 14.595517\n",
      "Episode:  314 Reward: 12.0 Epsilon 0.6849999999999997 mean q 13.7664175\n",
      "Episode:  315 Reward: 31.0 Epsilon 0.6839999999999997 mean q 12.343928\n",
      "Episode:  316 Reward: 11.0 Epsilon 0.6829999999999997 mean q 13.594534\n",
      "Episode:  317 Reward: 16.0 Epsilon 0.6819999999999997 mean q 12.278036\n",
      "Episode:  318 Reward: 11.0 Epsilon 0.6809999999999997 mean q 13.229928\n",
      "Episode:  319 Reward: 19.0 Epsilon 0.6799999999999997 mean q 12.928454\n",
      "Episode:  320 Reward: 17.0 Epsilon 0.6789999999999997 mean q 13.083931\n",
      "Episode:  321 Reward: 10.0 Epsilon 0.6779999999999997 mean q 12.35586\n",
      "Episode:  322 Reward: 12.0 Epsilon 0.6769999999999997 mean q 13.608935\n",
      "Episode:  323 Reward: 37.0 Epsilon 0.6759999999999997 mean q 12.27678\n",
      "Episode:  324 Reward: 13.0 Epsilon 0.6749999999999997 mean q 13.719694\n",
      "Episode:  325 Reward: 15.0 Epsilon 0.6739999999999997 mean q 14.027044\n",
      "Episode:  326 Reward: 13.0 Epsilon 0.6729999999999997 mean q 14.0116415\n",
      "Episode:  327 Reward: 15.0 Epsilon 0.6719999999999997 mean q 11.787394\n",
      "Episode:  328 Reward: 13.0 Epsilon 0.6709999999999997 mean q 13.552911\n",
      "Episode:  329 Reward: 18.0 Epsilon 0.6699999999999997 mean q 12.840722\n",
      "Episode:  330 Reward: 11.0 Epsilon 0.6689999999999997 mean q 13.970459\n",
      "Episode:  331 Reward: 11.0 Epsilon 0.6679999999999997 mean q 14.185575\n",
      "Episode:  332 Reward: 25.0 Epsilon 0.6669999999999997 mean q 12.50695\n",
      "Episode:  333 Reward: 9.0 Epsilon 0.6659999999999997 mean q 14.639857\n",
      "Episode:  334 Reward: 11.0 Epsilon 0.6649999999999997 mean q 13.902085\n",
      "Episode:  335 Reward: 12.0 Epsilon 0.6639999999999997 mean q 13.889508\n",
      "Episode:  336 Reward: 19.0 Epsilon 0.6629999999999997 mean q 13.084831\n",
      "Episode:  337 Reward: 15.0 Epsilon 0.6619999999999997 mean q 13.467936\n",
      "Episode:  338 Reward: 18.0 Epsilon 0.6609999999999997 mean q 12.861082\n",
      "Episode:  339 Reward: 9.0 Epsilon 0.6599999999999997 mean q 14.258038\n",
      "Episode:  340 Reward: 30.0 Epsilon 0.6589999999999997 mean q 12.522004\n",
      "Episode:  341 Reward: 14.0 Epsilon 0.6579999999999997 mean q 13.602164\n",
      "Episode:  342 Reward: 22.0 Epsilon 0.6569999999999997 mean q 12.877774\n",
      "Episode:  343 Reward: 35.0 Epsilon 0.6559999999999997 mean q 12.488042\n",
      "Episode:  344 Reward: 22.0 Epsilon 0.6549999999999997 mean q 12.925473\n",
      "Episode:  345 Reward: 14.0 Epsilon 0.6539999999999997 mean q 13.649226\n",
      "Episode:  346 Reward: 11.0 Epsilon 0.6529999999999997 mean q 11.006185\n",
      "Episode:  347 Reward: 19.0 Epsilon 0.6519999999999997 mean q 13.289421\n",
      "Episode:  348 Reward: 16.0 Epsilon 0.6509999999999997 mean q 13.335295\n",
      "Episode:  349 Reward: 10.0 Epsilon 0.6499999999999997 mean q 14.898625\n",
      "Episode:  350 Reward: 13.0 Epsilon 0.6489999999999997 mean q 13.599135\n",
      "Episode:  351 Reward: 43.0 Epsilon 0.6479999999999997 mean q 12.576139\n",
      "Episode:  352 Reward: 11.0 Epsilon 0.6469999999999997 mean q 14.644183\n",
      "Episode:  353 Reward: 29.0 Epsilon 0.6459999999999997 mean q 12.979201\n",
      "Episode:  354 Reward: 13.0 Epsilon 0.6449999999999997 mean q 14.350447\n",
      "Episode:  355 Reward: 10.0 Epsilon 0.6439999999999997 mean q 14.714777\n",
      "Episode:  356 Reward: 17.0 Epsilon 0.6429999999999997 mean q 13.466513\n",
      "Episode:  357 Reward: 9.0 Epsilon 0.6419999999999997 mean q 14.716297\n",
      "Episode:  358 Reward: 11.0 Epsilon 0.6409999999999997 mean q 14.75892\n",
      "Episode:  359 Reward: 16.0 Epsilon 0.6399999999999997 mean q 13.63935\n",
      "Episode:  360 Reward: 11.0 Epsilon 0.6389999999999997 mean q 14.531613\n",
      "Episode:  361 Reward: 32.0 Epsilon 0.6379999999999997 mean q 12.965731\n",
      "Episode:  362 Reward: 20.0 Epsilon 0.6369999999999997 mean q 13.38125\n",
      "Episode:  363 Reward: 21.0 Epsilon 0.6359999999999997 mean q 14.082078\n",
      "Episode:  364 Reward: 28.0 Epsilon 0.6349999999999997 mean q 13.415911\n",
      "Episode:  365 Reward: 10.0 Epsilon 0.6339999999999997 mean q 15.299571\n",
      "Episode:  366 Reward: 15.0 Epsilon 0.6329999999999997 mean q 14.017292\n",
      "Episode:  367 Reward: 12.0 Epsilon 0.6319999999999997 mean q 14.369817\n",
      "Episode:  368 Reward: 13.0 Epsilon 0.6309999999999997 mean q 14.313598\n",
      "Episode:  369 Reward: 17.0 Epsilon 0.6299999999999997 mean q 13.78597\n",
      "Episode:  370 Reward: 10.0 Epsilon 0.6289999999999997 mean q 15.121649\n",
      "Episode:  371 Reward: 11.0 Epsilon 0.6279999999999997 mean q 15.018462\n",
      "Episode:  372 Reward: 12.0 Epsilon 0.6269999999999997 mean q 14.340039\n",
      "Episode:  373 Reward: 9.0 Epsilon 0.6259999999999997 mean q 14.487764\n",
      "Episode:  374 Reward: 18.0 Epsilon 0.6249999999999997 mean q 13.957764\n",
      "Episode:  375 Reward: 16.0 Epsilon 0.6239999999999997 mean q 14.281553\n",
      "Episode:  376 Reward: 13.0 Epsilon 0.6229999999999997 mean q 11.299128\n",
      "Episode:  377 Reward: 12.0 Epsilon 0.6219999999999997 mean q 14.506955\n",
      "Episode:  378 Reward: 28.0 Epsilon 0.6209999999999997 mean q 13.732324\n",
      "Episode:  379 Reward: 18.0 Epsilon 0.6199999999999997 mean q 13.690653\n",
      "Episode:  380 Reward: 10.0 Epsilon 0.6189999999999997 mean q 15.178845\n",
      "Episode:  381 Reward: 13.0 Epsilon 0.6179999999999997 mean q 14.520011\n",
      "Episode:  382 Reward: 12.0 Epsilon 0.6169999999999997 mean q 14.177686\n",
      "Episode:  383 Reward: 19.0 Epsilon 0.6159999999999997 mean q 13.776679\n",
      "Episode:  384 Reward: 9.0 Epsilon 0.6149999999999997 mean q 14.347848\n",
      "Episode:  385 Reward: 16.0 Epsilon 0.6139999999999997 mean q 11.070963\n",
      "Episode:  386 Reward: 17.0 Epsilon 0.6129999999999997 mean q 13.755306\n",
      "Episode:  387 Reward: 16.0 Epsilon 0.6119999999999997 mean q 14.05681\n",
      "Episode:  388 Reward: 11.0 Epsilon 0.6109999999999997 mean q 14.520559\n",
      "Episode:  389 Reward: 15.0 Epsilon 0.6099999999999997 mean q 13.921097\n",
      "Episode:  390 Reward: 12.0 Epsilon 0.6089999999999997 mean q 13.889114\n",
      "Episode:  391 Reward: 14.0 Epsilon 0.6079999999999997 mean q 11.033127\n",
      "Episode:  392 Reward: 25.0 Epsilon 0.6069999999999997 mean q 11.808164\n",
      "Episode:  393 Reward: 12.0 Epsilon 0.6059999999999997 mean q 14.1912985\n",
      "Episode:  394 Reward: 13.0 Epsilon 0.6049999999999996 mean q 13.919704\n",
      "Episode:  395 Reward: 22.0 Epsilon 0.6039999999999996 mean q 13.454267\n",
      "Episode:  396 Reward: 9.0 Epsilon 0.6029999999999996 mean q 14.116347\n",
      "Episode:  397 Reward: 11.0 Epsilon 0.6019999999999996 mean q 14.352185\n",
      "Episode:  398 Reward: 9.0 Epsilon 0.6009999999999996 mean q 14.299123\n",
      "Episode:  399 Reward: 17.0 Epsilon 0.5999999999999996 mean q 13.529441\n",
      "Episode:  400 Reward: 10.0 Epsilon 0.5989999999999996 mean q 14.296618\n",
      "Episode:  401 Reward: 17.0 Epsilon 0.5979999999999996 mean q 13.374757\n",
      "Episode:  402 Reward: 15.0 Epsilon 0.5969999999999996 mean q 13.390939\n",
      "Episode:  403 Reward: 11.0 Epsilon 0.5959999999999996 mean q 14.066076\n",
      "Episode:  404 Reward: 12.0 Epsilon 0.5949999999999996 mean q 13.9344635\n",
      "Episode:  405 Reward: 11.0 Epsilon 0.5939999999999996 mean q 13.743219\n",
      "Episode:  406 Reward: 25.0 Epsilon 0.5929999999999996 mean q 12.732984\n",
      "Episode:  407 Reward: 11.0 Epsilon 0.5919999999999996 mean q 13.508096\n",
      "Episode:  408 Reward: 14.0 Epsilon 0.5909999999999996 mean q 12.986189\n",
      "Episode:  409 Reward: 10.0 Epsilon 0.5899999999999996 mean q 13.173103\n",
      "Episode:  410 Reward: 19.0 Epsilon 0.5889999999999996 mean q 12.72072\n",
      "Episode:  411 Reward: 15.0 Epsilon 0.5879999999999996 mean q 13.071828\n",
      "Episode:  412 Reward: 10.0 Epsilon 0.5869999999999996 mean q 13.501538\n",
      "Episode:  413 Reward: 11.0 Epsilon 0.5859999999999996 mean q 13.370291\n",
      "Episode:  414 Reward: 11.0 Epsilon 0.5849999999999996 mean q 13.104688\n",
      "Episode:  415 Reward: 11.0 Epsilon 0.5839999999999996 mean q 13.127648\n",
      "Episode:  416 Reward: 21.0 Epsilon 0.5829999999999996 mean q 12.689736\n",
      "Episode:  417 Reward: 14.0 Epsilon 0.5819999999999996 mean q 12.822036\n",
      "Episode:  418 Reward: 10.0 Epsilon 0.5809999999999996 mean q 12.945448\n",
      "Episode:  419 Reward: 12.0 Epsilon 0.5799999999999996 mean q 12.901684\n",
      "Episode:  420 Reward: 14.0 Epsilon 0.5789999999999996 mean q 12.737826\n",
      "Episode:  421 Reward: 16.0 Epsilon 0.5779999999999996 mean q 12.802408\n",
      "Episode:  422 Reward: 24.0 Epsilon 0.5769999999999996 mean q 12.378205\n",
      "Episode:  423 Reward: 26.0 Epsilon 0.5759999999999996 mean q 12.200568\n",
      "Episode:  424 Reward: 12.0 Epsilon 0.5749999999999996 mean q 12.540073\n",
      "Episode:  425 Reward: 9.0 Epsilon 0.5739999999999996 mean q 12.763335\n",
      "Episode:  426 Reward: 20.0 Epsilon 0.5729999999999996 mean q 12.089882\n",
      "Episode:  427 Reward: 13.0 Epsilon 0.5719999999999996 mean q 12.372524\n",
      "Episode:  428 Reward: 14.0 Epsilon 0.5709999999999996 mean q 12.01301\n",
      "Episode:  429 Reward: 21.0 Epsilon 0.5699999999999996 mean q 11.966776\n",
      "Episode:  430 Reward: 10.0 Epsilon 0.5689999999999996 mean q 12.252248\n",
      "Episode:  431 Reward: 14.0 Epsilon 0.5679999999999996 mean q 12.078435\n",
      "Episode:  432 Reward: 13.0 Epsilon 0.5669999999999996 mean q 12.34544\n",
      "Episode:  433 Reward: 22.0 Epsilon 0.5659999999999996 mean q 12.03915\n",
      "Episode:  434 Reward: 8.0 Epsilon 0.5649999999999996 mean q 12.0869665\n",
      "Episode:  435 Reward: 11.0 Epsilon 0.5639999999999996 mean q 11.746121\n",
      "Episode:  436 Reward: 12.0 Epsilon 0.5629999999999996 mean q 11.92344\n",
      "Episode:  437 Reward: 19.0 Epsilon 0.5619999999999996 mean q 11.626488\n",
      "Episode:  438 Reward: 13.0 Epsilon 0.5609999999999996 mean q 11.711874\n",
      "Episode:  439 Reward: 18.0 Epsilon 0.5599999999999996 mean q 11.448299\n",
      "Episode:  440 Reward: 10.0 Epsilon 0.5589999999999996 mean q 11.665667\n",
      "Episode:  441 Reward: 18.0 Epsilon 0.5579999999999996 mean q 11.520203\n",
      "Episode:  442 Reward: 17.0 Epsilon 0.5569999999999996 mean q 11.408602\n",
      "Episode:  443 Reward: 22.0 Epsilon 0.5559999999999996 mean q 11.091647\n",
      "Episode:  444 Reward: 29.0 Epsilon 0.5549999999999996 mean q 11.526793\n",
      "Episode:  445 Reward: 10.0 Epsilon 0.5539999999999996 mean q 11.127182\n",
      "Episode:  446 Reward: 9.0 Epsilon 0.5529999999999996 mean q 11.02888\n",
      "Episode:  447 Reward: 13.0 Epsilon 0.5519999999999996 mean q 10.713262\n",
      "Episode:  448 Reward: 12.0 Epsilon 0.5509999999999996 mean q 10.923058\n",
      "Episode:  449 Reward: 28.0 Epsilon 0.5499999999999996 mean q 10.794907\n",
      "Episode:  450 Reward: 14.0 Epsilon 0.5489999999999996 mean q 10.637039\n",
      "Episode:  451 Reward: 15.0 Epsilon 0.5479999999999996 mean q 10.344945\n",
      "Episode:  452 Reward: 12.0 Epsilon 0.5469999999999996 mean q 10.379696\n",
      "Episode:  453 Reward: 25.0 Epsilon 0.5459999999999996 mean q 10.655116\n",
      "Episode:  454 Reward: 14.0 Epsilon 0.5449999999999996 mean q 10.645265\n",
      "Episode:  455 Reward: 14.0 Epsilon 0.5439999999999996 mean q 10.446283\n",
      "Episode:  456 Reward: 22.0 Epsilon 0.5429999999999996 mean q 10.418878\n",
      "Episode:  457 Reward: 10.0 Epsilon 0.5419999999999996 mean q 10.042224\n",
      "Episode:  458 Reward: 10.0 Epsilon 0.5409999999999996 mean q 9.931328\n",
      "Episode:  459 Reward: 13.0 Epsilon 0.5399999999999996 mean q 9.70503\n",
      "Episode:  460 Reward: 13.0 Epsilon 0.5389999999999996 mean q 9.594848\n",
      "Episode:  461 Reward: 11.0 Epsilon 0.5379999999999996 mean q 9.760994\n",
      "Episode:  462 Reward: 26.0 Epsilon 0.5369999999999996 mean q 9.582588\n",
      "Episode:  463 Reward: 14.0 Epsilon 0.5359999999999996 mean q 9.583033\n",
      "Episode:  464 Reward: 13.0 Epsilon 0.5349999999999996 mean q 9.863124\n",
      "Episode:  465 Reward: 12.0 Epsilon 0.5339999999999996 mean q 9.255611\n",
      "Episode:  466 Reward: 11.0 Epsilon 0.5329999999999996 mean q 9.236204\n",
      "Episode:  467 Reward: 23.0 Epsilon 0.5319999999999996 mean q 9.832868\n",
      "Episode:  468 Reward: 13.0 Epsilon 0.5309999999999996 mean q 9.067489\n",
      "Episode:  469 Reward: 10.0 Epsilon 0.5299999999999996 mean q 9.002369\n",
      "Episode:  470 Reward: 10.0 Epsilon 0.5289999999999996 mean q 8.771979\n",
      "Episode:  471 Reward: 9.0 Epsilon 0.5279999999999996 mean q 9.177837\n",
      "Episode:  472 Reward: 19.0 Epsilon 0.5269999999999996 mean q 9.401641\n",
      "Episode:  473 Reward: 14.0 Epsilon 0.5259999999999996 mean q 8.990084\n",
      "Episode:  474 Reward: 13.0 Epsilon 0.5249999999999996 mean q 9.46511\n",
      "Episode:  475 Reward: 10.0 Epsilon 0.5239999999999996 mean q 9.112768\n",
      "Episode:  476 Reward: 13.0 Epsilon 0.5229999999999996 mean q 9.158956\n",
      "Episode:  477 Reward: 13.0 Epsilon 0.5219999999999996 mean q 8.707183\n",
      "Episode:  478 Reward: 12.0 Epsilon 0.5209999999999996 mean q 8.540954\n",
      "Episode:  479 Reward: 22.0 Epsilon 0.5199999999999996 mean q 9.466724\n",
      "Episode:  480 Reward: 39.0 Epsilon 0.5189999999999996 mean q 9.073915\n",
      "Episode:  481 Reward: 14.0 Epsilon 0.5179999999999996 mean q 9.240372\n",
      "Episode:  482 Reward: 38.0 Epsilon 0.5169999999999996 mean q 10.453084\n",
      "Episode:  483 Reward: 38.0 Epsilon 0.5159999999999996 mean q 8.835393\n",
      "Episode:  484 Reward: 91.0 Epsilon 0.5149999999999996 mean q 9.5415125\n",
      "Episode:  485 Reward: 29.0 Epsilon 0.5139999999999996 mean q 9.259627\n",
      "Episode:  486 Reward: 53.0 Epsilon 0.5129999999999996 mean q 10.394701\n",
      "Episode:  487 Reward: 49.0 Epsilon 0.5119999999999996 mean q 10.040341\n",
      "Episode:  488 Reward: 29.0 Epsilon 0.5109999999999996 mean q 9.690535\n",
      "Episode:  489 Reward: 19.0 Epsilon 0.5099999999999996 mean q 9.582694\n",
      "Episode:  490 Reward: 28.0 Epsilon 0.5089999999999996 mean q 9.835348\n",
      "Episode:  491 Reward: 47.0 Epsilon 0.5079999999999996 mean q 9.5672035\n",
      "Episode:  492 Reward: 42.0 Epsilon 0.5069999999999996 mean q 9.925131\n",
      "Episode:  493 Reward: 40.0 Epsilon 0.5059999999999996 mean q 10.951757\n",
      "Episode:  494 Reward: 32.0 Epsilon 0.5049999999999996 mean q 9.732105\n",
      "Episode:  495 Reward: 31.0 Epsilon 0.5039999999999996 mean q 9.904579\n",
      "Episode:  496 Reward: 70.0 Epsilon 0.5029999999999996 mean q 11.049466\n",
      "Episode:  497 Reward: 25.0 Epsilon 0.5019999999999996 mean q 10.232403\n",
      "Episode:  498 Reward: 35.0 Epsilon 0.5009999999999996 mean q 10.592749\n",
      "Episode:  499 Reward: 81.0 Epsilon 0.49999999999999956 mean q 11.4241085\n",
      "Episode:  500 Reward: 41.0 Epsilon 0.49899999999999956 mean q 10.267339\n",
      "Episode:  501 Reward: 30.0 Epsilon 0.49799999999999955 mean q 10.032965\n",
      "Episode:  502 Reward: 47.0 Epsilon 0.49699999999999955 mean q 9.966187\n",
      "Episode:  503 Reward: 27.0 Epsilon 0.49599999999999955 mean q 10.421809\n",
      "Episode:  504 Reward: 39.0 Epsilon 0.49499999999999955 mean q 10.240612\n",
      "Episode:  505 Reward: 53.0 Epsilon 0.49399999999999955 mean q 10.68339\n",
      "Episode:  506 Reward: 27.0 Epsilon 0.49299999999999955 mean q 11.154893\n",
      "Episode:  507 Reward: 56.0 Epsilon 0.49199999999999955 mean q 12.087656\n",
      "Episode:  508 Reward: 56.0 Epsilon 0.49099999999999955 mean q 12.570513\n",
      "Episode:  509 Reward: 64.0 Epsilon 0.48999999999999955 mean q 10.728035\n",
      "Episode:  510 Reward: 66.0 Epsilon 0.48899999999999955 mean q 12.385267\n",
      "Episode:  511 Reward: 35.0 Epsilon 0.48799999999999955 mean q 11.554201\n",
      "Episode:  512 Reward: 40.0 Epsilon 0.48699999999999954 mean q 11.340257\n",
      "Episode:  513 Reward: 92.0 Epsilon 0.48599999999999954 mean q 11.989272\n",
      "Episode:  514 Reward: 88.0 Epsilon 0.48499999999999954 mean q 12.309989\n",
      "Episode:  515 Reward: 35.0 Epsilon 0.48399999999999954 mean q 11.830279\n",
      "Episode:  516 Reward: 28.0 Epsilon 0.48299999999999954 mean q 12.099466\n",
      "Episode:  517 Reward: 27.0 Epsilon 0.48199999999999954 mean q 12.361347\n",
      "Episode:  518 Reward: 75.0 Epsilon 0.48099999999999954 mean q 12.872508\n",
      "Episode:  519 Reward: 16.0 Epsilon 0.47999999999999954 mean q 12.060785\n",
      "Episode:  520 Reward: 41.0 Epsilon 0.47899999999999954 mean q 12.211649\n",
      "Episode:  521 Reward: 44.0 Epsilon 0.47799999999999954 mean q 12.276853\n",
      "Episode:  522 Reward: 38.0 Epsilon 0.47699999999999954 mean q 12.330417\n",
      "Episode:  523 Reward: 41.0 Epsilon 0.47599999999999953 mean q 13.201344\n",
      "Episode:  524 Reward: 40.0 Epsilon 0.47499999999999953 mean q 12.289582\n",
      "Episode:  525 Reward: 51.0 Epsilon 0.47399999999999953 mean q 12.254376\n",
      "Episode:  526 Reward: 92.0 Epsilon 0.47299999999999953 mean q 14.070737\n",
      "Episode:  527 Reward: 81.0 Epsilon 0.47199999999999953 mean q 12.479545\n",
      "Episode:  528 Reward: 123.0 Epsilon 0.47099999999999953 mean q 13.871256\n",
      "Episode:  529 Reward: 30.0 Epsilon 0.46999999999999953 mean q 12.861055\n",
      "Episode:  530 Reward: 48.0 Epsilon 0.46899999999999953 mean q 14.728966\n",
      "Episode:  531 Reward: 10.0 Epsilon 0.4679999999999995 mean q 11.123079\n",
      "Episode:  532 Reward: 34.0 Epsilon 0.4669999999999995 mean q 13.35422\n",
      "Episode:  533 Reward: 60.0 Epsilon 0.4659999999999995 mean q 15.451545\n",
      "Episode:  534 Reward: 44.0 Epsilon 0.4649999999999995 mean q 15.179276\n",
      "Episode:  535 Reward: 51.0 Epsilon 0.4639999999999995 mean q 13.741555\n",
      "Episode:  536 Reward: 26.0 Epsilon 0.4629999999999995 mean q 12.56525\n",
      "Episode:  537 Reward: 40.0 Epsilon 0.4619999999999995 mean q 13.322144\n",
      "Episode:  538 Reward: 65.0 Epsilon 0.4609999999999995 mean q 13.025031\n",
      "Episode:  539 Reward: 32.0 Epsilon 0.4599999999999995 mean q 13.265852\n",
      "Episode:  540 Reward: 39.0 Epsilon 0.4589999999999995 mean q 14.959739\n",
      "Episode:  541 Reward: 119.0 Epsilon 0.4579999999999995 mean q 14.173158\n",
      "Episode:  542 Reward: 75.0 Epsilon 0.4569999999999995 mean q 16.014725\n",
      "Episode:  543 Reward: 29.0 Epsilon 0.4559999999999995 mean q 13.886664\n",
      "Episode:  544 Reward: 121.0 Epsilon 0.4549999999999995 mean q 14.214505\n",
      "Episode:  545 Reward: 63.0 Epsilon 0.4539999999999995 mean q 13.928896\n",
      "Episode:  546 Reward: 44.0 Epsilon 0.4529999999999995 mean q 14.530164\n",
      "Episode:  547 Reward: 91.0 Epsilon 0.4519999999999995 mean q 14.602507\n",
      "Episode:  548 Reward: 105.0 Epsilon 0.4509999999999995 mean q 15.814381\n",
      "Episode:  549 Reward: 91.0 Epsilon 0.4499999999999995 mean q 15.982867\n",
      "Episode:  550 Reward: 92.0 Epsilon 0.4489999999999995 mean q 14.198025\n",
      "Episode:  551 Reward: 147.0 Epsilon 0.4479999999999995 mean q 14.965384\n",
      "Episode:  552 Reward: 46.0 Epsilon 0.4469999999999995 mean q 16.157045\n",
      "Episode:  553 Reward: 46.0 Epsilon 0.4459999999999995 mean q 15.443548\n",
      "Episode:  554 Reward: 46.0 Epsilon 0.4449999999999995 mean q 16.000328\n",
      "Episode:  555 Reward: 35.0 Epsilon 0.4439999999999995 mean q 14.206247\n",
      "Episode:  556 Reward: 56.0 Epsilon 0.4429999999999995 mean q 14.492231\n",
      "Episode:  557 Reward: 63.0 Epsilon 0.4419999999999995 mean q 15.834447\n",
      "Episode:  558 Reward: 53.0 Epsilon 0.4409999999999995 mean q 15.005963\n",
      "Episode:  559 Reward: 53.0 Epsilon 0.4399999999999995 mean q 16.462027\n",
      "Episode:  560 Reward: 34.0 Epsilon 0.4389999999999995 mean q 14.592709\n",
      "Episode:  561 Reward: 29.0 Epsilon 0.4379999999999995 mean q 14.557158\n",
      "Episode:  562 Reward: 27.0 Epsilon 0.4369999999999995 mean q 14.315654\n",
      "Episode:  563 Reward: 76.0 Epsilon 0.4359999999999995 mean q 14.858185\n",
      "Episode:  564 Reward: 61.0 Epsilon 0.4349999999999995 mean q 14.169387\n",
      "Episode:  565 Reward: 65.0 Epsilon 0.4339999999999995 mean q 16.224636\n",
      "Episode:  566 Reward: 46.0 Epsilon 0.4329999999999995 mean q 16.554955\n",
      "Episode:  567 Reward: 47.0 Epsilon 0.4319999999999995 mean q 16.811613\n",
      "Episode:  568 Reward: 49.0 Epsilon 0.4309999999999995 mean q 17.030708\n",
      "Episode:  569 Reward: 65.0 Epsilon 0.4299999999999995 mean q 16.142565\n",
      "Episode:  570 Reward: 64.0 Epsilon 0.4289999999999995 mean q 14.954103\n",
      "Episode:  571 Reward: 93.0 Epsilon 0.4279999999999995 mean q 16.071968\n",
      "Episode:  572 Reward: 42.0 Epsilon 0.4269999999999995 mean q 15.218577\n",
      "Episode:  573 Reward: 66.0 Epsilon 0.4259999999999995 mean q 17.150183\n",
      "Episode:  574 Reward: 69.0 Epsilon 0.4249999999999995 mean q 15.147128\n",
      "Episode:  575 Reward: 69.0 Epsilon 0.4239999999999995 mean q 14.749689\n",
      "Episode:  576 Reward: 14.0 Epsilon 0.4229999999999995 mean q 13.38934\n",
      "Episode:  577 Reward: 88.0 Epsilon 0.4219999999999995 mean q 16.832544\n",
      "Episode:  578 Reward: 62.0 Epsilon 0.4209999999999995 mean q 16.636671\n",
      "Episode:  579 Reward: 47.0 Epsilon 0.4199999999999995 mean q 16.415434\n",
      "Episode:  580 Reward: 58.0 Epsilon 0.4189999999999995 mean q 16.458754\n",
      "Episode:  581 Reward: 105.0 Epsilon 0.4179999999999995 mean q 16.273174\n",
      "Episode:  582 Reward: 136.0 Epsilon 0.4169999999999995 mean q 17.360588\n",
      "Episode:  583 Reward: 30.0 Epsilon 0.4159999999999995 mean q 14.523081\n",
      "Episode:  584 Reward: 87.0 Epsilon 0.4149999999999995 mean q 15.206992\n",
      "Episode:  585 Reward: 95.0 Epsilon 0.4139999999999995 mean q 15.394428\n",
      "Episode:  586 Reward: 108.0 Epsilon 0.4129999999999995 mean q 16.140238\n",
      "Episode:  587 Reward: 27.0 Epsilon 0.4119999999999995 mean q 16.015493\n",
      "Episode:  588 Reward: 65.0 Epsilon 0.4109999999999995 mean q 15.307343\n",
      "Episode:  589 Reward: 46.0 Epsilon 0.4099999999999995 mean q 16.545717\n",
      "Episode:  590 Reward: 81.0 Epsilon 0.4089999999999995 mean q 14.837831\n",
      "Episode:  591 Reward: 29.0 Epsilon 0.4079999999999995 mean q 14.159336\n",
      "Episode:  592 Reward: 44.0 Epsilon 0.4069999999999995 mean q 14.731268\n",
      "Episode:  593 Reward: 26.0 Epsilon 0.4059999999999995 mean q 14.800042\n",
      "Episode:  594 Reward: 98.0 Epsilon 0.40499999999999947 mean q 15.711195\n",
      "Episode:  595 Reward: 51.0 Epsilon 0.40399999999999947 mean q 15.433285\n",
      "Episode:  596 Reward: 42.0 Epsilon 0.40299999999999947 mean q 16.028738\n",
      "Episode:  597 Reward: 17.0 Epsilon 0.40199999999999947 mean q 14.874847\n",
      "Episode:  598 Reward: 30.0 Epsilon 0.40099999999999947 mean q 14.982899\n",
      "Episode:  599 Reward: 54.0 Epsilon 0.39999999999999947 mean q 15.194561\n",
      "Episode:  600 Reward: 48.0 Epsilon 0.39899999999999947 mean q 15.170449\n",
      "Episode:  601 Reward: 54.0 Epsilon 0.39799999999999947 mean q 16.459158\n",
      "Episode:  602 Reward: 87.0 Epsilon 0.39699999999999946 mean q 16.591595\n",
      "Episode:  603 Reward: 42.0 Epsilon 0.39599999999999946 mean q 16.437138\n",
      "Episode:  604 Reward: 70.0 Epsilon 0.39499999999999946 mean q 15.721052\n",
      "Episode:  605 Reward: 79.0 Epsilon 0.39399999999999946 mean q 15.162217\n",
      "Episode:  606 Reward: 54.0 Epsilon 0.39299999999999946 mean q 16.423687\n",
      "Episode:  607 Reward: 87.0 Epsilon 0.39199999999999946 mean q 15.544992\n",
      "Episode:  608 Reward: 53.0 Epsilon 0.39099999999999946 mean q 15.020285\n",
      "Episode:  609 Reward: 27.0 Epsilon 0.38999999999999946 mean q 14.684587\n",
      "Episode:  610 Reward: 60.0 Epsilon 0.38899999999999946 mean q 16.541155\n",
      "Episode:  611 Reward: 60.0 Epsilon 0.38799999999999946 mean q 16.863527\n",
      "Episode:  612 Reward: 45.0 Epsilon 0.38699999999999946 mean q 16.141144\n",
      "Episode:  613 Reward: 103.0 Epsilon 0.38599999999999945 mean q 15.855084\n",
      "Episode:  614 Reward: 58.0 Epsilon 0.38499999999999945 mean q 14.90318\n",
      "Episode:  615 Reward: 45.0 Epsilon 0.38399999999999945 mean q 15.169671\n",
      "Episode:  616 Reward: 70.0 Epsilon 0.38299999999999945 mean q 15.325715\n",
      "Episode:  617 Reward: 57.0 Epsilon 0.38199999999999945 mean q 15.062857\n",
      "Episode:  618 Reward: 37.0 Epsilon 0.38099999999999945 mean q 16.101894\n",
      "Episode:  619 Reward: 21.0 Epsilon 0.37999999999999945 mean q 15.226366\n",
      "Episode:  620 Reward: 40.0 Epsilon 0.37899999999999945 mean q 16.098862\n",
      "Episode:  621 Reward: 85.0 Epsilon 0.37799999999999945 mean q 15.387236\n",
      "Episode:  622 Reward: 51.0 Epsilon 0.37699999999999945 mean q 15.80504\n",
      "Episode:  623 Reward: 81.0 Epsilon 0.37599999999999945 mean q 15.496835\n",
      "Episode:  624 Reward: 167.0 Epsilon 0.37499999999999944 mean q 15.524346\n",
      "Episode:  625 Reward: 26.0 Epsilon 0.37399999999999944 mean q 14.862382\n",
      "Episode:  626 Reward: 56.0 Epsilon 0.37299999999999944 mean q 16.413492\n",
      "Episode:  627 Reward: 64.0 Epsilon 0.37199999999999944 mean q 15.312052\n",
      "Episode:  628 Reward: 79.0 Epsilon 0.37099999999999944 mean q 15.466929\n",
      "Episode:  629 Reward: 83.0 Epsilon 0.36999999999999944 mean q 15.398481\n",
      "Episode:  630 Reward: 45.0 Epsilon 0.36899999999999944 mean q 15.281915\n",
      "Episode:  631 Reward: 62.0 Epsilon 0.36799999999999944 mean q 16.08653\n",
      "Episode:  632 Reward: 61.0 Epsilon 0.36699999999999944 mean q 15.4883175\n",
      "Episode:  633 Reward: 51.0 Epsilon 0.36599999999999944 mean q 15.701252\n",
      "Episode:  634 Reward: 60.0 Epsilon 0.36499999999999944 mean q 15.362307\n",
      "Episode:  635 Reward: 21.0 Epsilon 0.36399999999999944 mean q 14.714449\n",
      "Episode:  636 Reward: 80.0 Epsilon 0.36299999999999943 mean q 15.327937\n",
      "Episode:  637 Reward: 39.0 Epsilon 0.36199999999999943 mean q 15.224079\n",
      "Episode:  638 Reward: 119.0 Epsilon 0.36099999999999943 mean q 15.521801\n",
      "Episode:  639 Reward: 36.0 Epsilon 0.35999999999999943 mean q 16.594963\n",
      "Episode:  640 Reward: 40.0 Epsilon 0.35899999999999943 mean q 14.81102\n",
      "Episode:  641 Reward: 69.0 Epsilon 0.35799999999999943 mean q 16.544218\n",
      "Episode:  642 Reward: 65.0 Epsilon 0.35699999999999943 mean q 15.311384\n",
      "Episode:  643 Reward: 70.0 Epsilon 0.35599999999999943 mean q 16.325987\n",
      "Episode:  644 Reward: 82.0 Epsilon 0.3549999999999994 mean q 15.717845\n",
      "Episode:  645 Reward: 65.0 Epsilon 0.3539999999999994 mean q 16.328123\n",
      "Episode:  646 Reward: 57.0 Epsilon 0.3529999999999994 mean q 15.457843\n",
      "Episode:  647 Reward: 109.0 Epsilon 0.3519999999999994 mean q 16.255484\n",
      "Episode:  648 Reward: 60.0 Epsilon 0.3509999999999994 mean q 15.387319\n",
      "Episode:  649 Reward: 89.0 Epsilon 0.3499999999999994 mean q 15.351601\n",
      "Episode:  650 Reward: 127.0 Epsilon 0.3489999999999994 mean q 16.131413\n",
      "Episode:  651 Reward: 81.0 Epsilon 0.3479999999999994 mean q 15.036817\n",
      "Episode:  652 Reward: 48.0 Epsilon 0.3469999999999994 mean q 15.081093\n",
      "Episode:  653 Reward: 76.0 Epsilon 0.3459999999999994 mean q 15.254189\n",
      "Episode:  654 Reward: 64.0 Epsilon 0.3449999999999994 mean q 15.212534\n",
      "Episode:  655 Reward: 54.0 Epsilon 0.3439999999999994 mean q 16.12696\n",
      "Episode:  656 Reward: 46.0 Epsilon 0.3429999999999994 mean q 16.08146\n",
      "Episode:  657 Reward: 66.0 Epsilon 0.3419999999999994 mean q 15.973036\n",
      "Episode:  658 Reward: 83.0 Epsilon 0.3409999999999994 mean q 15.931144\n",
      "Episode:  659 Reward: 50.0 Epsilon 0.3399999999999994 mean q 14.988464\n",
      "Episode:  660 Reward: 77.0 Epsilon 0.3389999999999994 mean q 16.20062\n",
      "Episode:  661 Reward: 54.0 Epsilon 0.3379999999999994 mean q 14.95876\n",
      "Episode:  662 Reward: 51.0 Epsilon 0.3369999999999994 mean q 15.083831\n",
      "Episode:  663 Reward: 42.0 Epsilon 0.3359999999999994 mean q 14.978908\n",
      "Episode:  664 Reward: 65.0 Epsilon 0.3349999999999994 mean q 16.413307\n",
      "Episode:  665 Reward: 72.0 Epsilon 0.3339999999999994 mean q 15.378864\n",
      "Episode:  666 Reward: 74.0 Epsilon 0.3329999999999994 mean q 16.260845\n",
      "Episode:  667 Reward: 33.0 Epsilon 0.3319999999999994 mean q 14.923993\n",
      "Episode:  668 Reward: 50.0 Epsilon 0.3309999999999994 mean q 15.502132\n",
      "Episode:  669 Reward: 56.0 Epsilon 0.3299999999999994 mean q 15.920541\n",
      "Episode:  670 Reward: 68.0 Epsilon 0.3289999999999994 mean q 15.131238\n",
      "Episode:  671 Reward: 54.0 Epsilon 0.3279999999999994 mean q 14.96938\n",
      "Episode:  672 Reward: 64.0 Epsilon 0.3269999999999994 mean q 16.250063\n",
      "Episode:  673 Reward: 47.0 Epsilon 0.3259999999999994 mean q 15.685243\n",
      "Episode:  674 Reward: 50.0 Epsilon 0.3249999999999994 mean q 15.032787\n",
      "Episode:  675 Reward: 56.0 Epsilon 0.3239999999999994 mean q 15.30436\n",
      "Episode:  676 Reward: 117.0 Epsilon 0.3229999999999994 mean q 16.237593\n",
      "Episode:  677 Reward: 66.0 Epsilon 0.3219999999999994 mean q 15.188717\n",
      "Episode:  678 Reward: 90.0 Epsilon 0.3209999999999994 mean q 16.234316\n",
      "Episode:  679 Reward: 107.0 Epsilon 0.3199999999999994 mean q 16.15255\n",
      "Episode:  680 Reward: 96.0 Epsilon 0.3189999999999994 mean q 15.17142\n",
      "Episode:  681 Reward: 34.0 Epsilon 0.3179999999999994 mean q 14.719759\n",
      "Episode:  682 Reward: 84.0 Epsilon 0.3169999999999994 mean q 16.165499\n",
      "Episode:  683 Reward: 82.0 Epsilon 0.3159999999999994 mean q 16.323317\n",
      "Episode:  684 Reward: 96.0 Epsilon 0.3149999999999994 mean q 16.26979\n",
      "Episode:  685 Reward: 61.0 Epsilon 0.3139999999999994 mean q 16.075102\n",
      "Episode:  686 Reward: 61.0 Epsilon 0.3129999999999994 mean q 15.976174\n",
      "Episode:  687 Reward: 28.0 Epsilon 0.3119999999999994 mean q 14.8190155\n",
      "Episode:  688 Reward: 54.0 Epsilon 0.3109999999999994 mean q 14.945623\n",
      "Episode:  689 Reward: 85.0 Epsilon 0.3099999999999994 mean q 16.08588\n",
      "Episode:  690 Reward: 75.0 Epsilon 0.3089999999999994 mean q 16.171452\n",
      "Episode:  691 Reward: 115.0 Epsilon 0.3079999999999994 mean q 16.092234\n",
      "Episode:  692 Reward: 71.0 Epsilon 0.3069999999999994 mean q 15.558726\n",
      "Episode:  693 Reward: 30.0 Epsilon 0.3059999999999994 mean q 15.386703\n",
      "Episode:  694 Reward: 109.0 Epsilon 0.3049999999999994 mean q 15.248449\n",
      "Episode:  695 Reward: 55.0 Epsilon 0.3039999999999994 mean q 14.886064\n",
      "Episode:  696 Reward: 89.0 Epsilon 0.3029999999999994 mean q 15.292689\n",
      "Episode:  697 Reward: 59.0 Epsilon 0.3019999999999994 mean q 15.981497\n",
      "Episode:  698 Reward: 54.0 Epsilon 0.3009999999999994 mean q 15.268187\n",
      "Episode:  699 Reward: 54.0 Epsilon 0.2999999999999994 mean q 15.206419\n",
      "Episode:  700 Reward: 67.0 Epsilon 0.2989999999999994 mean q 16.147192\n",
      "Episode:  701 Reward: 65.0 Epsilon 0.2979999999999994 mean q 15.097863\n",
      "Episode:  702 Reward: 70.0 Epsilon 0.2969999999999994 mean q 16.090551\n",
      "Episode:  703 Reward: 47.0 Epsilon 0.2959999999999994 mean q 15.804942\n",
      "Episode:  704 Reward: 84.0 Epsilon 0.2949999999999994 mean q 15.037395\n",
      "Episode:  705 Reward: 95.0 Epsilon 0.2939999999999994 mean q 15.003328\n",
      "Episode:  706 Reward: 99.0 Epsilon 0.29299999999999937 mean q 15.946759\n",
      "Episode:  707 Reward: 110.0 Epsilon 0.29199999999999937 mean q 15.446148\n",
      "Episode:  708 Reward: 153.0 Epsilon 0.29099999999999937 mean q 16.048937\n",
      "Episode:  709 Reward: 120.0 Epsilon 0.28999999999999937 mean q 15.595423\n",
      "Episode:  710 Reward: 148.0 Epsilon 0.28899999999999937 mean q 15.487483\n",
      "Episode:  711 Reward: 71.0 Epsilon 0.28799999999999937 mean q 15.997679\n",
      "Episode:  712 Reward: 48.0 Epsilon 0.28699999999999937 mean q 16.117727\n",
      "Episode:  713 Reward: 144.0 Epsilon 0.28599999999999937 mean q 15.9950905\n",
      "Episode:  714 Reward: 52.0 Epsilon 0.28499999999999936 mean q 15.862786\n",
      "Episode:  715 Reward: 74.0 Epsilon 0.28399999999999936 mean q 15.941624\n",
      "Episode:  716 Reward: 112.0 Epsilon 0.28299999999999936 mean q 15.296913\n",
      "Episode:  717 Reward: 64.0 Epsilon 0.28199999999999936 mean q 14.898459\n",
      "Episode:  718 Reward: 138.0 Epsilon 0.28099999999999936 mean q 15.505049\n",
      "Episode:  719 Reward: 136.0 Epsilon 0.27999999999999936 mean q 15.575181\n",
      "Episode:  720 Reward: 97.0 Epsilon 0.27899999999999936 mean q 15.307141\n",
      "Episode:  721 Reward: 79.0 Epsilon 0.27799999999999936 mean q 15.066156\n",
      "Episode:  722 Reward: 136.0 Epsilon 0.27699999999999936 mean q 16.125593\n",
      "Episode:  723 Reward: 200.0 Epsilon 0.27599999999999936 mean q 15.779458\n",
      "Episode:  724 Reward: 109.0 Epsilon 0.27499999999999936 mean q 15.463512\n",
      "Episode:  725 Reward: 106.0 Epsilon 0.27399999999999936 mean q 15.075458\n",
      "Episode:  726 Reward: 144.0 Epsilon 0.27299999999999935 mean q 15.761139\n",
      "Episode:  727 Reward: 46.0 Epsilon 0.27199999999999935 mean q 15.760525\n",
      "Episode:  728 Reward: 192.0 Epsilon 0.27099999999999935 mean q 15.693794\n",
      "Episode:  729 Reward: 94.0 Epsilon 0.26999999999999935 mean q 15.168397\n",
      "Episode:  730 Reward: 76.0 Epsilon 0.26899999999999935 mean q 15.111837\n",
      "Episode:  731 Reward: 89.0 Epsilon 0.26799999999999935 mean q 14.914896\n",
      "Episode:  732 Reward: 87.0 Epsilon 0.26699999999999935 mean q 15.419355\n",
      "Episode:  733 Reward: 80.0 Epsilon 0.26599999999999935 mean q 16.040293\n",
      "Episode:  734 Reward: 164.0 Epsilon 0.26499999999999935 mean q 16.081839\n",
      "Episode:  735 Reward: 138.0 Epsilon 0.26399999999999935 mean q 15.895671\n",
      "Episode:  736 Reward: 162.0 Epsilon 0.26299999999999935 mean q 16.142769\n",
      "Episode:  737 Reward: 168.0 Epsilon 0.26199999999999934 mean q 16.172026\n",
      "Episode:  738 Reward: 200.0 Epsilon 0.26099999999999934 mean q 16.223082\n",
      "Episode:  739 Reward: 81.0 Epsilon 0.25999999999999934 mean q 15.18799\n",
      "Episode:  740 Reward: 71.0 Epsilon 0.25899999999999934 mean q 16.131374\n",
      "Episode:  741 Reward: 97.0 Epsilon 0.25799999999999934 mean q 15.085091\n",
      "Episode:  742 Reward: 129.0 Epsilon 0.25699999999999934 mean q 15.766429\n",
      "Episode:  743 Reward: 147.0 Epsilon 0.25599999999999934 mean q 14.9795885\n",
      "Episode:  744 Reward: 200.0 Epsilon 0.25499999999999934 mean q 16.314678\n",
      "Episode:  745 Reward: 158.0 Epsilon 0.25399999999999934 mean q 14.937495\n",
      "Episode:  746 Reward: 161.0 Epsilon 0.25299999999999934 mean q 16.00824\n",
      "Episode:  747 Reward: 192.0 Epsilon 0.25199999999999934 mean q 15.349427\n",
      "Episode:  748 Reward: 194.0 Epsilon 0.25099999999999933 mean q 15.896543\n",
      "Episode:  749 Reward: 171.0 Epsilon 0.24999999999999933 mean q 15.091449\n",
      "Episode:  750 Reward: 200.0 Epsilon 0.24899999999999933 mean q 16.751493\n",
      "Episode:  751 Reward: 200.0 Epsilon 0.24799999999999933 mean q 16.18502\n",
      "Episode:  752 Reward: 107.0 Epsilon 0.24699999999999933 mean q 14.529478\n",
      "Episode:  753 Reward: 155.0 Epsilon 0.24599999999999933 mean q 15.368304\n",
      "Episode:  754 Reward: 200.0 Epsilon 0.24499999999999933 mean q 16.581911\n",
      "Episode:  755 Reward: 149.0 Epsilon 0.24399999999999933 mean q 15.7706995\n",
      "Episode:  756 Reward: 105.0 Epsilon 0.24299999999999933 mean q 14.794071\n",
      "Episode:  757 Reward: 167.0 Epsilon 0.24199999999999933 mean q 15.310199\n",
      "Episode:  758 Reward: 122.0 Epsilon 0.24099999999999933 mean q 14.064933\n",
      "Episode:  759 Reward: 184.0 Epsilon 0.23999999999999932 mean q 15.374183\n",
      "Episode:  760 Reward: 200.0 Epsilon 0.23899999999999932 mean q 15.333469\n",
      "Episode:  761 Reward: 147.0 Epsilon 0.23799999999999932 mean q 14.54244\n",
      "Episode:  762 Reward: 154.0 Epsilon 0.23699999999999932 mean q 14.741185\n",
      "Episode:  763 Reward: 187.0 Epsilon 0.23599999999999932 mean q 14.927437\n",
      "Episode:  764 Reward: 200.0 Epsilon 0.23499999999999932 mean q 15.592891\n",
      "Episode:  765 Reward: 120.0 Epsilon 0.23399999999999932 mean q 13.779405\n",
      "Episode:  766 Reward: 130.0 Epsilon 0.23299999999999932 mean q 14.292144\n",
      "Episode:  767 Reward: 200.0 Epsilon 0.23199999999999932 mean q 16.092964\n",
      "Episode:  768 Reward: 166.0 Epsilon 0.23099999999999932 mean q 16.497715\n",
      "Episode:  769 Reward: 200.0 Epsilon 0.22999999999999932 mean q 16.985794\n",
      "Episode:  770 Reward: 192.0 Epsilon 0.22899999999999932 mean q 15.218022\n",
      "Episode:  771 Reward: 197.0 Epsilon 0.22799999999999931 mean q 15.33535\n",
      "Episode:  772 Reward: 200.0 Epsilon 0.2269999999999993 mean q 16.175566\n",
      "Episode:  773 Reward: 147.0 Epsilon 0.2259999999999993 mean q 14.904718\n",
      "Episode:  774 Reward: 165.0 Epsilon 0.2249999999999993 mean q 14.574095\n",
      "Episode:  775 Reward: 200.0 Epsilon 0.2239999999999993 mean q 17.42766\n",
      "Episode:  776 Reward: 165.0 Epsilon 0.2229999999999993 mean q 15.162678\n",
      "Episode:  777 Reward: 200.0 Epsilon 0.2219999999999993 mean q 15.638658\n",
      "Episode:  778 Reward: 200.0 Epsilon 0.2209999999999993 mean q 17.357317\n",
      "Episode:  779 Reward: 200.0 Epsilon 0.2199999999999993 mean q 17.377722\n",
      "Episode:  780 Reward: 200.0 Epsilon 0.2189999999999993 mean q 15.424893\n",
      "Episode:  781 Reward: 200.0 Epsilon 0.2179999999999993 mean q 17.317282\n",
      "Episode:  782 Reward: 200.0 Epsilon 0.2169999999999993 mean q 15.939226\n",
      "Episode:  783 Reward: 165.0 Epsilon 0.2159999999999993 mean q 14.548643\n",
      "Episode:  784 Reward: 181.0 Epsilon 0.2149999999999993 mean q 14.6289625\n",
      "Episode:  785 Reward: 200.0 Epsilon 0.2139999999999993 mean q 17.32968\n",
      "Episode:  786 Reward: 176.0 Epsilon 0.2129999999999993 mean q 14.568329\n",
      "Episode:  787 Reward: 200.0 Epsilon 0.2119999999999993 mean q 17.161758\n",
      "Episode:  788 Reward: 200.0 Epsilon 0.2109999999999993 mean q 15.806022\n",
      "Episode:  789 Reward: 187.0 Epsilon 0.2099999999999993 mean q 15.6596575\n",
      "Episode:  790 Reward: 200.0 Epsilon 0.2089999999999993 mean q 15.583744\n",
      "Episode:  791 Reward: 200.0 Epsilon 0.2079999999999993 mean q 17.589916\n",
      "Episode:  792 Reward: 200.0 Epsilon 0.2069999999999993 mean q 16.029348\n",
      "Episode:  793 Reward: 200.0 Epsilon 0.2059999999999993 mean q 17.835817\n",
      "Episode:  794 Reward: 192.0 Epsilon 0.2049999999999993 mean q 15.657075\n",
      "Episode:  795 Reward: 200.0 Epsilon 0.2039999999999993 mean q 17.945684\n",
      "Episode:  796 Reward: 196.0 Epsilon 0.2029999999999993 mean q 15.629025\n",
      "Episode:  797 Reward: 200.0 Epsilon 0.2019999999999993 mean q 16.980743\n",
      "Episode:  798 Reward: 200.0 Epsilon 0.2009999999999993 mean q 16.634327\n",
      "Episode:  799 Reward: 200.0 Epsilon 0.1999999999999993 mean q 18.523037\n",
      "Episode:  800 Reward: 200.0 Epsilon 0.1989999999999993 mean q 17.861334\n",
      "Episode:  801 Reward: 200.0 Epsilon 0.1979999999999993 mean q 18.55646\n",
      "Episode:  802 Reward: 200.0 Epsilon 0.1969999999999993 mean q 18.271353\n",
      "Episode:  803 Reward: 200.0 Epsilon 0.19599999999999929 mean q 16.294762\n",
      "Episode:  804 Reward: 173.0 Epsilon 0.19499999999999929 mean q 16.155548\n",
      "Episode:  805 Reward: 200.0 Epsilon 0.19399999999999928 mean q 18.574253\n",
      "Episode:  806 Reward: 194.0 Epsilon 0.19299999999999928 mean q 16.422194\n",
      "Episode:  807 Reward: 200.0 Epsilon 0.19199999999999928 mean q 18.34383\n",
      "Episode:  808 Reward: 200.0 Epsilon 0.19099999999999928 mean q 18.709568\n",
      "Episode:  809 Reward: 200.0 Epsilon 0.18999999999999928 mean q 18.481302\n",
      "Episode:  810 Reward: 200.0 Epsilon 0.18899999999999928 mean q 17.842947\n",
      "Episode:  811 Reward: 200.0 Epsilon 0.18799999999999928 mean q 18.456451\n",
      "Episode:  812 Reward: 200.0 Epsilon 0.18699999999999928 mean q 18.540195\n",
      "Episode:  813 Reward: 200.0 Epsilon 0.18599999999999928 mean q 18.308739\n",
      "Episode:  814 Reward: 200.0 Epsilon 0.18499999999999928 mean q 18.763369\n",
      "Episode:  815 Reward: 200.0 Epsilon 0.18399999999999928 mean q 18.113832\n",
      "Episode:  816 Reward: 200.0 Epsilon 0.18299999999999927 mean q 17.079557\n",
      "Episode:  817 Reward: 200.0 Epsilon 0.18199999999999927 mean q 17.67225\n",
      "Episode:  818 Reward: 200.0 Epsilon 0.18099999999999927 mean q 17.692144\n",
      "Episode:  819 Reward: 200.0 Epsilon 0.17999999999999927 mean q 18.983913\n"
     ]
    },
    {
     "ename": "KeyboardInterrupt",
     "evalue": "",
     "output_type": "error",
     "traceback": [
      "\u001b[0;31m---------------------------------------------------------------------------\u001b[0m",
      "\u001b[0;31mKeyboardInterrupt\u001b[0m                         Traceback (most recent call last)",
      "\u001b[0;32m<ipython-input-97-46d11b5999c7>\u001b[0m in \u001b[0;36m<module>\u001b[0;34m\u001b[0m\n\u001b[1;32m     16\u001b[0m \u001b[0mnum_episodes\u001b[0m \u001b[0;34m=\u001b[0m \u001b[0;36m1200\u001b[0m\u001b[0;34m\u001b[0m\u001b[0m\n\u001b[1;32m     17\u001b[0m \u001b[0mbatch_size\u001b[0m \u001b[0;34m=\u001b[0m \u001b[0;36m128\u001b[0m\u001b[0;34m\u001b[0m\u001b[0m\n\u001b[0;32m---> 18\u001b[0;31m \u001b[0mR\u001b[0m\u001b[0;34m,\u001b[0m \u001b[0mR_avg\u001b[0m \u001b[0;34m=\u001b[0m \u001b[0mtrain_loop_ddqn\u001b[0m\u001b[0;34m(\u001b[0m\u001b[0mmodel\u001b[0m\u001b[0;34m,\u001b[0m \u001b[0menv\u001b[0m\u001b[0;34m,\u001b[0m \u001b[0mnum_episodes\u001b[0m\u001b[0;34m,\u001b[0m \u001b[0mbatch_size\u001b[0m\u001b[0;34m)\u001b[0m\u001b[0;34m\u001b[0m\u001b[0m\n\u001b[0m",
      "\u001b[0;32m<ipython-input-96-5918f58ae5c2>\u001b[0m in \u001b[0;36mtrain_loop_ddqn\u001b[0;34m(model, env, num_episodes, batch_size, gamma)\u001b[0m\n\u001b[1;32m     41\u001b[0m             \u001b[0;31m# if buffer contains more than 1000 samples, perform one training step\u001b[0m\u001b[0;34m\u001b[0m\u001b[0;34m\u001b[0m\u001b[0m\n\u001b[1;32m     42\u001b[0m             \u001b[0;32mif\u001b[0m \u001b[0mreplay_buffer\u001b[0m\u001b[0;34m.\u001b[0m\u001b[0mbuffer_length\u001b[0m \u001b[0;34m>\u001b[0m \u001b[0;36m1000\u001b[0m\u001b[0;34m:\u001b[0m\u001b[0;34m\u001b[0m\u001b[0m\n\u001b[0;32m---> 43\u001b[0;31m                 \u001b[0ms\u001b[0m\u001b[0;34m,\u001b[0m \u001b[0ma\u001b[0m\u001b[0;34m,\u001b[0m \u001b[0mr\u001b[0m\u001b[0;34m,\u001b[0m \u001b[0ms_\u001b[0m\u001b[0;34m,\u001b[0m \u001b[0mt\u001b[0m \u001b[0;34m=\u001b[0m \u001b[0mreplay_buffer\u001b[0m\u001b[0;34m.\u001b[0m\u001b[0msample_minibatch\u001b[0m\u001b[0;34m(\u001b[0m\u001b[0mbatch_size\u001b[0m\u001b[0;34m)\u001b[0m \u001b[0;31m# sample a minibatch of transitions\u001b[0m\u001b[0;34m\u001b[0m\u001b[0m\n\u001b[0m\u001b[1;32m     44\u001b[0m                 \u001b[0mq_1\u001b[0m\u001b[0;34m,\u001b[0m \u001b[0mq_2\u001b[0m \u001b[0;34m=\u001b[0m \u001b[0mmodel\u001b[0m\u001b[0;34m.\u001b[0m\u001b[0mget_q_values_for_both_models\u001b[0m\u001b[0;34m(\u001b[0m\u001b[0mnp\u001b[0m\u001b[0;34m.\u001b[0m\u001b[0msqueeze\u001b[0m\u001b[0;34m(\u001b[0m\u001b[0ms_\u001b[0m\u001b[0;34m)\u001b[0m\u001b[0;34m)\u001b[0m\u001b[0;34m\u001b[0m\u001b[0m\n\u001b[1;32m     45\u001b[0m                 \u001b[0mtd_target\u001b[0m \u001b[0;34m=\u001b[0m \u001b[0mcalculate_td_targets\u001b[0m\u001b[0;34m(\u001b[0m\u001b[0mq_1\u001b[0m\u001b[0;34m,\u001b[0m \u001b[0mq_2\u001b[0m\u001b[0;34m,\u001b[0m \u001b[0mr\u001b[0m\u001b[0;34m,\u001b[0m \u001b[0mt\u001b[0m\u001b[0;34m,\u001b[0m \u001b[0mgamma\u001b[0m\u001b[0;34m)\u001b[0m\u001b[0;34m\u001b[0m\u001b[0m\n",
      "\u001b[0;32m~/DNN/HA3_NEW/HA3/dqn_model.py\u001b[0m in \u001b[0;36msample_minibatch\u001b[0;34m(self, batch_size)\u001b[0m\n\u001b[1;32m     39\u001b[0m         \u001b[0mnext_state_batch\u001b[0m \u001b[0;34m=\u001b[0m \u001b[0mnp\u001b[0m\u001b[0;34m.\u001b[0m\u001b[0mzeros\u001b[0m\u001b[0;34m(\u001b[0m\u001b[0;34m[\u001b[0m\u001b[0mbatch_size\u001b[0m\u001b[0;34m,\u001b[0m \u001b[0mself\u001b[0m\u001b[0;34m.\u001b[0m\u001b[0m_state_size\u001b[0m\u001b[0;34m]\u001b[0m\u001b[0;34m)\u001b[0m\u001b[0;34m\u001b[0m\u001b[0m\n\u001b[1;32m     40\u001b[0m         \u001b[0;32mfor\u001b[0m \u001b[0mi\u001b[0m\u001b[0;34m,\u001b[0m \u001b[0mindex\u001b[0m \u001b[0;32min\u001b[0m \u001b[0mzip\u001b[0m\u001b[0;34m(\u001b[0m\u001b[0mrange\u001b[0m\u001b[0;34m(\u001b[0m\u001b[0mbatch_size\u001b[0m\u001b[0;34m)\u001b[0m\u001b[0;34m,\u001b[0m \u001b[0mids\u001b[0m\u001b[0;34m)\u001b[0m\u001b[0;34m:\u001b[0m\u001b[0;34m\u001b[0m\u001b[0m\n\u001b[0;32m---> 41\u001b[0;31m             \u001b[0mstate_batch\u001b[0m\u001b[0;34m[\u001b[0m\u001b[0mi\u001b[0m\u001b[0;34m]\u001b[0m \u001b[0;34m=\u001b[0m \u001b[0mself\u001b[0m\u001b[0;34m.\u001b[0m\u001b[0m__buffer\u001b[0m\u001b[0;34m[\u001b[0m\u001b[0mindex\u001b[0m\u001b[0;34m]\u001b[0m\u001b[0;34m.\u001b[0m\u001b[0ms\u001b[0m\u001b[0;34m\u001b[0m\u001b[0m\n\u001b[0m\u001b[1;32m     42\u001b[0m             \u001b[0maction_batch\u001b[0m\u001b[0;34m[\u001b[0m\u001b[0mi\u001b[0m\u001b[0;34m]\u001b[0m \u001b[0;34m=\u001b[0m \u001b[0mself\u001b[0m\u001b[0;34m.\u001b[0m\u001b[0m__buffer\u001b[0m\u001b[0;34m[\u001b[0m\u001b[0mindex\u001b[0m\u001b[0;34m]\u001b[0m\u001b[0;34m.\u001b[0m\u001b[0ma\u001b[0m\u001b[0;34m\u001b[0m\u001b[0m\n\u001b[1;32m     43\u001b[0m             \u001b[0mreward_batch\u001b[0m\u001b[0;34m[\u001b[0m\u001b[0mi\u001b[0m\u001b[0;34m]\u001b[0m \u001b[0;34m=\u001b[0m \u001b[0mself\u001b[0m\u001b[0;34m.\u001b[0m\u001b[0m__buffer\u001b[0m\u001b[0;34m[\u001b[0m\u001b[0mindex\u001b[0m\u001b[0;34m]\u001b[0m\u001b[0;34m.\u001b[0m\u001b[0mr\u001b[0m\u001b[0;34m\u001b[0m\u001b[0m\n",
      "\u001b[0;31mKeyboardInterrupt\u001b[0m: "
     ]
    }
   ],
   "source": [
    "# Create the environment\n",
    "env = gym.make(\"CartPole-v0\")\n",
    "\n",
    "# Initializations\n",
    "num_actions = env.action_space.n\n",
    "obs_dim = env.observation_space.shape[0]\n",
    "\n",
    "# Our Neural Netork model used to estimate the Q-values\n",
    "model = DoubleQLearningModel(state_dim=obs_dim, action_dim=num_actions, learning_rate=1e-4)\n",
    "\n",
    "# Create replay buffer, where experience in form of tuples <s,a,r,s',t>, gathered from the environment is stored \n",
    "# for training\n",
    "replay_buffer = ExperienceReplay(state_size=obs_dim)\n",
    "\n",
    "# Train\n",
    "num_episodes = 1200 \n",
    "batch_size = 128 \n",
    "R, R_avg = train_loop_ddqn(model, env, num_episodes, batch_size) \n"
   ]
  },
  {
   "cell_type": "code",
   "execution_count": 102,
   "metadata": {
    "deletable": false,
    "editable": false,
    "nbgrader": {
     "checksum": "ccfca43f389c569bcbffc990f47b4193",
     "grade": false,
     "grade_id": "cell-4757be1a3ec18b56",
     "locked": true,
     "schema_version": 1,
     "solution": false
    }
   },
   "outputs": [],
   "source": [
    "# close window (if you used env.render())\n",
    "env.close()"
   ]
  },
  {
   "cell_type": "markdown",
   "metadata": {
    "deletable": false,
    "editable": false,
    "nbgrader": {
     "checksum": "6c25e0e7133fd3583dcac959c1daede9",
     "grade": false,
     "grade_id": "cell-8f1ad36de733ed92",
     "locked": true,
     "schema_version": 1,
     "solution": false
    }
   },
   "source": [
    "According to the code above, and the code in the provided .py file, answer the following questions:\n",
    "    \n",
    "What is the state for this problem?"
   ]
  },
  {
   "cell_type": "markdown",
   "metadata": {
    "deletable": false,
    "nbgrader": {
     "checksum": "2f28740b9ccf7bf2fa7f166c9fbde003",
     "grade": true,
     "grade_id": "cell-0a780f1afdcd6b1a",
     "locked": false,
     "points": 0,
     "schema_version": 1,
     "solution": true
    }
   },
   "source": [
    "**Your answer:** (fill in here)"
   ]
  },
  {
   "cell_type": "markdown",
   "metadata": {
    "deletable": false,
    "editable": false,
    "nbgrader": {
     "checksum": "d24bef4443fea27ffd50ac2afa03e864",
     "grade": false,
     "grade_id": "cell-50a080269bf6f296",
     "locked": true,
     "schema_version": 1,
     "solution": false
    }
   },
   "source": [
    "When do we switch the networks (i.e. when does the online network become the fixed one, and vice-versa)?"
   ]
  },
  {
   "cell_type": "markdown",
   "metadata": {
    "deletable": false,
    "nbgrader": {
     "checksum": "ec6fb2c4cdc4df93cd1669b0e4696410",
     "grade": true,
     "grade_id": "cell-099530ded38d7038",
     "locked": false,
     "points": 0,
     "schema_version": 1,
     "solution": true
    }
   },
   "source": [
    "**Your answer:** (fill in here)"
   ]
  },
  {
   "cell_type": "markdown",
   "metadata": {
    "deletable": false,
    "editable": false,
    "nbgrader": {
     "checksum": "f182ff445a4e8d3848403742faa6a1cd",
     "grade": false,
     "grade_id": "cell-0836fc1b783d1158",
     "locked": true,
     "schema_version": 1,
     "solution": false
    }
   },
   "source": [
    "Run the cell below to visualize your final policy in an episode from this environment.\n",
    "\n",
    "**Note:** In order to visualize, the env.render() command needs to work out on your system (see comment a few cells above)."
   ]
  },
  {
   "cell_type": "code",
   "execution_count": null,
   "metadata": {
    "deletable": false,
    "editable": false,
    "nbgrader": {
     "checksum": "4ff19e83fbc6ba870e1b638fc7801f37",
     "grade": false,
     "grade_id": "cell-1e8a9b49909882ac",
     "locked": true,
     "schema_version": 1,
     "solution": false
    }
   },
   "outputs": [],
   "source": [
    "import time\n",
    "num_episodes = 1\n",
    "env = gym.make(\"CartPole-v0\")\n",
    "\n",
    "for i in range(num_episodes):\n",
    "        state = env.reset() #reset to initial state\n",
    "        state = np.expand_dims(state, axis=0)/2\n",
    "        terminal = False # reset terminal flag\n",
    "        while not terminal:\n",
    "            env.render()\n",
    "            time.sleep(.05)\n",
    "            q_values = model.get_q_values(state)\n",
    "            policy = eps_greedy_policy(q_values.squeeze(), .1) # greedy policy\n",
    "            action = np.random.choice(num_actions, p=policy)\n",
    "            state, reward, terminal, _ = env.step(action) # take one step in the evironment\n",
    "            state = np.expand_dims(state, axis=0)/2\n",
    "# close window\n",
    "env.close();"
   ]
  },
  {
   "cell_type": "markdown",
   "metadata": {
    "deletable": false,
    "editable": false,
    "nbgrader": {
     "checksum": "91c95cdee8f1715e789b8bdf2a4e2ff8",
     "grade": false,
     "grade_id": "cell-0bb5d237ca6839d6",
     "locked": true,
     "schema_version": 1,
     "solution": false
    }
   },
   "source": [
    "Plot the episodic rewards obtained throughout the optimization, together with a moving average of it (since the episodic reward is usually very noisy)."
   ]
  },
  {
   "cell_type": "code",
   "execution_count": 101,
   "metadata": {
    "deletable": false,
    "editable": false,
    "nbgrader": {
     "checksum": "a49cda53e12c1b8a976338c0f8bff7b9",
     "grade": false,
     "grade_id": "cell-a3c72b1dbffd2db4",
     "locked": true,
     "schema_version": 1,
     "solution": false
    }
   },
   "outputs": [
    {
     "data": {
      "image/png": "[encoded data removed]",
      "text/plain": [
       "<Figure size 432x288 with 1 Axes>"
      ]
     },
     "metadata": {
      "needs_background": "light"
     },
     "output_type": "display_data"
    }
   ],
   "source": [
    "%matplotlib inline\n",
    "import matplotlib.pyplot as plt\n",
    "\n",
    "rewards = plt.plot(R, alpha=.4, label='R')\n",
    "avg_rewards = plt.plot(R_avg,label='avg R')\n",
    "plt.legend(bbox_to_anchor=(1.01, 1), loc=2, borderaxespad=0.)\n",
    "plt.xlabel('Episode')\n",
    "plt.ylim(0, 210)\n",
    "plt.show()"
   ]
  },
  {
   "cell_type": "markdown",
   "metadata": {
    "deletable": false,
    "editable": false,
    "nbgrader": {
     "checksum": "99ff38a2a4ff5f958140c9ee6019db87",
     "grade": false,
     "grade_id": "cell-293ec5dfa636ff48",
     "locked": true,
     "schema_version": 1,
     "solution": false
    }
   },
   "source": [
    "Congratulations, you have now successfully implemented the DDQN algorithm. You are encouraged to explore different problems. There are a lot of different environments ready for you to implement your algorithms in. A few of these resources are:\n",
    "* [OpenAI gym](https://github.com/openai/gym)\n",
    "* [OpenAI Universe](https://github.com/openai/universe)\n",
    "* [DeepMind Lab](https://deepmind.com/blog/open-sourcing-deepmind-lab/)\n",
    "\n",
    "The model you implemented in this lab can be extended to solve harder problems. A good starting-point is to try to solve the Acrobot-problem, by loading the environment as \n",
    "\n",
    "**gym.make(\"Acrobot-v1\")**.\n",
    "\n",
    "The problem might require some modifications to how you decay $\\epsilon$, but otherwise, the code you have written within this lab should be sufficient. "
   ]
  },
  {
   "cell_type": "markdown",
   "metadata": {
    "deletable": false,
    "editable": false,
    "nbgrader": {
     "checksum": "6be3464a29fcec53d4c2434c8af73acd",
     "grade": false,
     "grade_id": "cell-671cfb5a590863e9",
     "locked": true,
     "schema_version": 1,
     "solution": false
    }
   },
   "source": [
    "### Task 3.2 Atari games\n",
    "\n",
    "A common benchmark for reinforcement learning algorithms is the old Atari games. For the Atari games, each observation consists of one screenshot of the current state of the game. Other than adding convolutional layers to your neural network, there is one more issue regarding the new input that needs to be solved. Name at least two solutions to the problem, and why it won't work without these changes. \n",
    "\n",
    "Hint:\n",
    "- Imagine the game of pong. What is important for the algorithm to predict? What is the input to the algorithm? Is it possible to predict what we want from the input given?"
   ]
  },
  {
   "cell_type": "markdown",
   "metadata": {
    "deletable": false,
    "nbgrader": {
     "checksum": "8c57f74e2e49c6ee244370df1b46e5a2",
     "grade": true,
     "grade_id": "cell-55e109dd6169612b",
     "locked": false,
     "points": 0,
     "schema_version": 1,
     "solution": true
    }
   },
   "source": [
    "**Your answer:** (fill in here)"
   ]
  }
 ],
 "metadata": {
  "kernelspec": {
   "display_name": "Python 3",
   "language": "python",
   "name": "python3"
  },
  "language_info": {
   "codemirror_mode": {
    "name": "ipython",
    "version": 3
   },
   "file_extension": ".py",
   "mimetype": "text/x-python",
   "name": "python",
   "nbconvert_exporter": "python",
   "pygments_lexer": "ipython3",
   "version": "3.6.5"
  }
 },
 "nbformat": 4,
 "nbformat_minor": 2
}
